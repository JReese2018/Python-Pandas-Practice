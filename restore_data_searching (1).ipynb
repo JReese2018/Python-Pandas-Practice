{
  "metadata": {
    "kernelspec": {
      "name": "python",
      "display_name": "Python (Pyodide)",
      "language": "python"
    },
    "language_info": {
      "codemirror_mode": {
        "name": "python",
        "version": 3
      },
      "file_extension": ".py",
      "mimetype": "text/x-python",
      "name": "python",
      "nbconvert_exporter": "python",
      "pygments_lexer": "ipython3",
      "version": "3.8"
    }
  },
  "nbformat_minor": 4,
  "nbformat": 4,
  "cells": [
    {
      "cell_type": "markdown",
      "source": "## Restore Data Searching",
      "metadata": {}
    },
    {
      "cell_type": "markdown",
      "source": "3 for 50 dollars csv\nFind clients that bought 3 packs of core services at 50 dollars\n\nCredit balance\nSee who is running low on credits and get a list of their emails\n\nTake out all MB Migration",
      "metadata": {}
    },
    {
      "cell_type": "code",
      "source": "## Let's import necessary libraries and datasets\nimport pandas as pd\n\ndf_3_for_50 = pd.read_csv('restore_3_for_50_data.csv')\ndf_core = pd.read_csv('balance_core_services.csv')\ndf_medical = pd.read_csv('balance_medical_services.csv')\ndf_skin = pd.read_csv('balance_skin_services.csv')",
      "metadata": {
        "trusted": true
      },
      "outputs": [],
      "execution_count": 105
    },
    {
      "cell_type": "markdown",
      "source": "## 3 for $50",
      "metadata": {}
    },
    {
      "cell_type": "markdown",
      "source": "<font size=\"5\">We are tasked with getting all the people who purchased a 3 for $50 deal in the past month</font>\n\n<font size=\"5\">We were given all of the transactions in the last month</font>",
      "metadata": {}
    },
    {
      "cell_type": "code",
      "source": "## Check what the data set looks like by getting the first 5 rows\ndf_3_for_50.head(5)",
      "metadata": {
        "trusted": true
      },
      "outputs": [
        {
          "execution_count": 106,
          "output_type": "execute_result",
          "data": {
            "text/plain": "  Studio Code Purchase Date Invoice ID Client ID First Name  Last Name  \\\n0       FL005    11/27/2023   31453168    443950   Cristina  Chavarria   \n1       FL005    11/27/2023   31453169    671156     Teresa       Seda   \n2       FL005    11/27/2023   31453170    280027    Melanie     Hunter   \n3       FL005    11/27/2023   31453171    754675    Jessica     Rummel   \n4       FL005    11/27/2023   31453172     27512   Humberto        Gil   \n\n                        Email     Phone # Therapy Category Business Category  \\\n0    cchavarria1224@gmail.com  3053038233      Memberships        Membership   \n1   teresa.seda@walgreens.com  7876616297      Memberships        Membership   \n2  melanieannhunter@gmail.com  7735319169      Memberships        Membership   \n3   jessicarummel@hotmail.com  3054585484      Memberships        Membership   \n4   humbertogil64@hotmail.com  7868993347      Memberships        Membership   \n\n                            Item Sales Rep Autopay Status Quantity Tax Amount  \\\n0            Discover Membership       NaN        Success        1      $0.00   \n1            Discover Membership       NaN        Success        1      $0.00   \n2  Wellness Membership - Couples       NaN        Success        1      $0.00   \n3            Discover Membership       NaN        Success        1      $0.00   \n4            Discover Membership       NaN        Success        1      $0.00   \n\n  Discount Credit Used Unnamed: 17  \n0    $0.00           0     $119.00  \n1    $0.00           0     $119.00  \n2    $0.00           0     $169.00  \n3    $0.00           0     $119.00  \n4    $0.00           0     $119.00  ",
            "text/html": "<div>\n<style scoped>\n    .dataframe tbody tr th:only-of-type {\n        vertical-align: middle;\n    }\n\n    .dataframe tbody tr th {\n        vertical-align: top;\n    }\n\n    .dataframe thead th {\n        text-align: right;\n    }\n</style>\n<table border=\"1\" class=\"dataframe\">\n  <thead>\n    <tr style=\"text-align: right;\">\n      <th></th>\n      <th>Studio Code</th>\n      <th>Purchase Date</th>\n      <th>Invoice ID</th>\n      <th>Client ID</th>\n      <th>First Name</th>\n      <th>Last Name</th>\n      <th>Email</th>\n      <th>Phone #</th>\n      <th>Therapy Category</th>\n      <th>Business Category</th>\n      <th>Item</th>\n      <th>Sales Rep</th>\n      <th>Autopay Status</th>\n      <th>Quantity</th>\n      <th>Tax Amount</th>\n      <th>Discount</th>\n      <th>Credit Used</th>\n      <th>Unnamed: 17</th>\n    </tr>\n  </thead>\n  <tbody>\n    <tr>\n      <th>0</th>\n      <td>FL005</td>\n      <td>11/27/2023</td>\n      <td>31453168</td>\n      <td>443950</td>\n      <td>Cristina</td>\n      <td>Chavarria</td>\n      <td>cchavarria1224@gmail.com</td>\n      <td>3053038233</td>\n      <td>Memberships</td>\n      <td>Membership</td>\n      <td>Discover Membership</td>\n      <td>NaN</td>\n      <td>Success</td>\n      <td>1</td>\n      <td>$0.00</td>\n      <td>$0.00</td>\n      <td>0</td>\n      <td>$119.00</td>\n    </tr>\n    <tr>\n      <th>1</th>\n      <td>FL005</td>\n      <td>11/27/2023</td>\n      <td>31453169</td>\n      <td>671156</td>\n      <td>Teresa</td>\n      <td>Seda</td>\n      <td>teresa.seda@walgreens.com</td>\n      <td>7876616297</td>\n      <td>Memberships</td>\n      <td>Membership</td>\n      <td>Discover Membership</td>\n      <td>NaN</td>\n      <td>Success</td>\n      <td>1</td>\n      <td>$0.00</td>\n      <td>$0.00</td>\n      <td>0</td>\n      <td>$119.00</td>\n    </tr>\n    <tr>\n      <th>2</th>\n      <td>FL005</td>\n      <td>11/27/2023</td>\n      <td>31453170</td>\n      <td>280027</td>\n      <td>Melanie</td>\n      <td>Hunter</td>\n      <td>melanieannhunter@gmail.com</td>\n      <td>7735319169</td>\n      <td>Memberships</td>\n      <td>Membership</td>\n      <td>Wellness Membership - Couples</td>\n      <td>NaN</td>\n      <td>Success</td>\n      <td>1</td>\n      <td>$0.00</td>\n      <td>$0.00</td>\n      <td>0</td>\n      <td>$169.00</td>\n    </tr>\n    <tr>\n      <th>3</th>\n      <td>FL005</td>\n      <td>11/27/2023</td>\n      <td>31453171</td>\n      <td>754675</td>\n      <td>Jessica</td>\n      <td>Rummel</td>\n      <td>jessicarummel@hotmail.com</td>\n      <td>3054585484</td>\n      <td>Memberships</td>\n      <td>Membership</td>\n      <td>Discover Membership</td>\n      <td>NaN</td>\n      <td>Success</td>\n      <td>1</td>\n      <td>$0.00</td>\n      <td>$0.00</td>\n      <td>0</td>\n      <td>$119.00</td>\n    </tr>\n    <tr>\n      <th>4</th>\n      <td>FL005</td>\n      <td>11/27/2023</td>\n      <td>31453172</td>\n      <td>27512</td>\n      <td>Humberto</td>\n      <td>Gil</td>\n      <td>humbertogil64@hotmail.com</td>\n      <td>7868993347</td>\n      <td>Memberships</td>\n      <td>Membership</td>\n      <td>Discover Membership</td>\n      <td>NaN</td>\n      <td>Success</td>\n      <td>1</td>\n      <td>$0.00</td>\n      <td>$0.00</td>\n      <td>0</td>\n      <td>$119.00</td>\n    </tr>\n  </tbody>\n</table>\n</div>"
          },
          "metadata": {}
        }
      ],
      "execution_count": 106
    },
    {
      "cell_type": "markdown",
      "source": "<font size=\"5\">Cleaning the data</font>",
      "metadata": {}
    },
    {
      "cell_type": "code",
      "source": "## I immediately see some columns that meant nothing to me so let's get rid of them\n## We'll also give it a new name\ndf_3_for_50 = df_3_for_50.drop(columns=['Studio Code', 'Purchase Date', 'Invoice ID', 'Client ID', 'Therapy Category', 'Business Category', 'Sales Rep', 'Autopay Status', 'Tax Amount', 'Discount', 'Quantity', 'Credit Used'])",
      "metadata": {
        "trusted": true
      },
      "outputs": [],
      "execution_count": 107
    },
    {
      "cell_type": "code",
      "source": "## I also don't know why the name of the last column is that so let's change it\ndf_3_for_50 = df_3_for_50.rename(columns={\"Unnamed: 17\": \"Total\"})",
      "metadata": {
        "trusted": true
      },
      "outputs": [],
      "execution_count": 108
    },
    {
      "cell_type": "code",
      "source": "## Let's grab the all the 3 Pack of Core Service\ndf_3_for_50.loc[(df_3_for_50['Item'] == 'Core Service | 3 Pack')]",
      "metadata": {
        "trusted": true
      },
      "outputs": [
        {
          "execution_count": 109,
          "output_type": "execute_result",
          "data": {
            "text/plain": "     First Name    Last Name                         Email     Phone #  \\\n36        Nikki        Perez        misslashawn1@yahoo.com  7866005444   \n52         Luis       Peraza      goldenfence305@gmail.com  3055251616   \n116       Bella        Rozay      rosemomey2021@icloud.com  7866659820   \n156      Olivia      Cajigas     olivia@oec-consulting.com  3059650425   \n281      Alexis        Ferro     alexisferro1128@gmail.com  3057330441   \n283        Jose       Ferrro             jmf1128@gmail.com  3052826372   \n298   Claudette        Casal        claudettecasal@att.net  3056063685   \n330   Christina       Xiques             cxgravier@aol.com  3052990750   \n361   Christian      Hollant    christianhollant@yahoo.com  3057834767   \n383    Jennifer       Kanold             jenkanold@mac.com  7866507701   \n460      Aileen       Permuy          aspermuy@hotmail.com  7863516816   \n468       David        Bratt      daveinthesouth@gmail.com  7866266537   \n477   Rigoberto     Valverde  rigoberto_valverde@yahoo.com  7869260546   \n540     Abigail      Pereira          lala031782@yahoo.com  3054841851   \n636     Natalie       Llopis           natllo202@gmail.com  3059019723   \n650      Farris       Abusad       farrisabusad1@gmail.com  7863879295   \n690    Marianna     Dubinsky   nouvellehomemiami@gmail.com  7866064445   \n700       Alice       Mendes      alicemendesfit@gmail.com  2039217993   \n712       Randi    Rosenberg             dandi1978@aol.com  3055276529   \n773        Rene      Ramirez        kingsluggers@gmail.com  7863467162   \n801      Iraida       Garcia   advancedliens@bellsouth.net  3052447536   \n850    Brigitte      Valdera        cestrada0225@gmail.com  3057538703   \n854      Hannah      Hartley          hlhartley1@gmail.com  3052979110   \n863       Traci         Cole          leidback@comcast.net  3037968838   \n876       Alain  Piloto-Rios             aprios79@yahoo.es  5024359577   \n943   Charlotte     De Paula      turleyjewelers@yahoo.com  3058019051   \n955      Andres    Rodriguez     iortiz@universalelite.com  7862710654   \n1014       Ryan       Rangel      ryanrangel0622@gmail.com  7865475579   \n1053       Ines       Mamder       neshinava@bellsouth.new  3058981552   \n1072     Struan     Mckenize       jennyjmarkham@gmail.com  3059033358   \n1219  Marchetti     Anthoney          suem-21401@yahoo.com  4108049688   \n1285     Victor        Calvo       victorcalvomd@gmail.com  3059922129   \n1288       Zyad       Wright          zyadwright@gmail.com  7868518598   \n1314  Christian      Bridges    christianbridges@yahoo.com  7862986914   \n1316   Jennifer      Linares  linares_jennifer@hotmail.com  3053890464   \n1338     Iraida       Garcia   advancedliens@bellsouth.net  3052447536   \n1362  Stephanie        Parra              sparr007@fiu.edu  7869161161   \n1476     Jaclyn     Buckreis     jaclyn.buckreis@gmail.com  7039407718   \n1516       Gina       Fiallo              cyfi45@gmail.com  3057903863   \n1524   Santiago       Burgos  santiago23burgos@hotmail.com  7863283157   \n1525     Monica       Zabian      monasoccer18@hotmail.com  7866606710   \n1541      Levar       Walker        lwfamily2457@gmail.com  7865212539   \n1569    Melanie       Kayser           maohara@comcast.net  2022509865   \n1574   Yanisset         Urra            yanisset@yahoo.com  7868180630   \n1582   Yanisset         Urra            yanisset@yahoo.com  7868180630   \n1670     Belkis         Kern  belkiskern.realtor@gmail.com  7863682973   \n1763      Davis      Marchus      davismarchus@outlook.com  3057102128   \n\n                       Item    Total  \n36    Core Service | 3 Pack   $50.00  \n52    Core Service | 3 Pack   $50.00  \n116   Core Service | 3 Pack   $50.00  \n156   Core Service | 3 Pack   $50.00  \n281   Core Service | 3 Pack   $50.00  \n283   Core Service | 3 Pack   $50.00  \n298   Core Service | 3 Pack   $50.00  \n330   Core Service | 3 Pack   $50.00  \n361   Core Service | 3 Pack   $50.00  \n383   Core Service | 3 Pack   $50.00  \n460   Core Service | 3 Pack   $50.00  \n468   Core Service | 3 Pack   $50.00  \n477   Core Service | 3 Pack   $50.00  \n540   Core Service | 3 Pack   $50.00  \n636   Core Service | 3 Pack   $50.00  \n650   Core Service | 3 Pack   $50.00  \n690   Core Service | 3 Pack   $50.00  \n700   Core Service | 3 Pack   $50.00  \n712   Core Service | 3 Pack   $50.00  \n773   Core Service | 3 Pack   $50.00  \n801   Core Service | 3 Pack   $50.00  \n850   Core Service | 3 Pack   $50.00  \n854   Core Service | 3 Pack   $50.00  \n863   Core Service | 3 Pack   $50.00  \n876   Core Service | 3 Pack   $50.00  \n943   Core Service | 3 Pack   $50.00  \n955   Core Service | 3 Pack   $50.00  \n1014  Core Service | 3 Pack   $50.00  \n1053  Core Service | 3 Pack   $50.00  \n1072  Core Service | 3 Pack   $50.00  \n1219  Core Service | 3 Pack   $50.00  \n1285  Core Service | 3 Pack   $50.00  \n1288  Core Service | 3 Pack   $50.00  \n1314  Core Service | 3 Pack   $50.00  \n1316  Core Service | 3 Pack  $117.60  \n1338  Core Service | 3 Pack   $50.00  \n1362  Core Service | 3 Pack   $50.00  \n1476  Core Service | 3 Pack   $50.00  \n1516  Core Service | 3 Pack   $50.00  \n1524  Core Service | 3 Pack   $50.00  \n1525  Core Service | 3 Pack   $50.00  \n1541  Core Service | 3 Pack  $100.00  \n1569  Core Service | 3 Pack   $50.00  \n1574  Core Service | 3 Pack   $50.00  \n1582  Core Service | 3 Pack  $100.00  \n1670  Core Service | 3 Pack   $50.00  \n1763  Core Service | 3 Pack   $50.00  ",
            "text/html": "<div>\n<style scoped>\n    .dataframe tbody tr th:only-of-type {\n        vertical-align: middle;\n    }\n\n    .dataframe tbody tr th {\n        vertical-align: top;\n    }\n\n    .dataframe thead th {\n        text-align: right;\n    }\n</style>\n<table border=\"1\" class=\"dataframe\">\n  <thead>\n    <tr style=\"text-align: right;\">\n      <th></th>\n      <th>First Name</th>\n      <th>Last Name</th>\n      <th>Email</th>\n      <th>Phone #</th>\n      <th>Item</th>\n      <th>Total</th>\n    </tr>\n  </thead>\n  <tbody>\n    <tr>\n      <th>36</th>\n      <td>Nikki</td>\n      <td>Perez</td>\n      <td>misslashawn1@yahoo.com</td>\n      <td>7866005444</td>\n      <td>Core Service | 3 Pack</td>\n      <td>$50.00</td>\n    </tr>\n    <tr>\n      <th>52</th>\n      <td>Luis</td>\n      <td>Peraza</td>\n      <td>goldenfence305@gmail.com</td>\n      <td>3055251616</td>\n      <td>Core Service | 3 Pack</td>\n      <td>$50.00</td>\n    </tr>\n    <tr>\n      <th>116</th>\n      <td>Bella</td>\n      <td>Rozay</td>\n      <td>rosemomey2021@icloud.com</td>\n      <td>7866659820</td>\n      <td>Core Service | 3 Pack</td>\n      <td>$50.00</td>\n    </tr>\n    <tr>\n      <th>156</th>\n      <td>Olivia</td>\n      <td>Cajigas</td>\n      <td>olivia@oec-consulting.com</td>\n      <td>3059650425</td>\n      <td>Core Service | 3 Pack</td>\n      <td>$50.00</td>\n    </tr>\n    <tr>\n      <th>281</th>\n      <td>Alexis</td>\n      <td>Ferro</td>\n      <td>alexisferro1128@gmail.com</td>\n      <td>3057330441</td>\n      <td>Core Service | 3 Pack</td>\n      <td>$50.00</td>\n    </tr>\n    <tr>\n      <th>283</th>\n      <td>Jose</td>\n      <td>Ferrro</td>\n      <td>jmf1128@gmail.com</td>\n      <td>3052826372</td>\n      <td>Core Service | 3 Pack</td>\n      <td>$50.00</td>\n    </tr>\n    <tr>\n      <th>298</th>\n      <td>Claudette</td>\n      <td>Casal</td>\n      <td>claudettecasal@att.net</td>\n      <td>3056063685</td>\n      <td>Core Service | 3 Pack</td>\n      <td>$50.00</td>\n    </tr>\n    <tr>\n      <th>330</th>\n      <td>Christina</td>\n      <td>Xiques</td>\n      <td>cxgravier@aol.com</td>\n      <td>3052990750</td>\n      <td>Core Service | 3 Pack</td>\n      <td>$50.00</td>\n    </tr>\n    <tr>\n      <th>361</th>\n      <td>Christian</td>\n      <td>Hollant</td>\n      <td>christianhollant@yahoo.com</td>\n      <td>3057834767</td>\n      <td>Core Service | 3 Pack</td>\n      <td>$50.00</td>\n    </tr>\n    <tr>\n      <th>383</th>\n      <td>Jennifer</td>\n      <td>Kanold</td>\n      <td>jenkanold@mac.com</td>\n      <td>7866507701</td>\n      <td>Core Service | 3 Pack</td>\n      <td>$50.00</td>\n    </tr>\n    <tr>\n      <th>460</th>\n      <td>Aileen</td>\n      <td>Permuy</td>\n      <td>aspermuy@hotmail.com</td>\n      <td>7863516816</td>\n      <td>Core Service | 3 Pack</td>\n      <td>$50.00</td>\n    </tr>\n    <tr>\n      <th>468</th>\n      <td>David</td>\n      <td>Bratt</td>\n      <td>daveinthesouth@gmail.com</td>\n      <td>7866266537</td>\n      <td>Core Service | 3 Pack</td>\n      <td>$50.00</td>\n    </tr>\n    <tr>\n      <th>477</th>\n      <td>Rigoberto</td>\n      <td>Valverde</td>\n      <td>rigoberto_valverde@yahoo.com</td>\n      <td>7869260546</td>\n      <td>Core Service | 3 Pack</td>\n      <td>$50.00</td>\n    </tr>\n    <tr>\n      <th>540</th>\n      <td>Abigail</td>\n      <td>Pereira</td>\n      <td>lala031782@yahoo.com</td>\n      <td>3054841851</td>\n      <td>Core Service | 3 Pack</td>\n      <td>$50.00</td>\n    </tr>\n    <tr>\n      <th>636</th>\n      <td>Natalie</td>\n      <td>Llopis</td>\n      <td>natllo202@gmail.com</td>\n      <td>3059019723</td>\n      <td>Core Service | 3 Pack</td>\n      <td>$50.00</td>\n    </tr>\n    <tr>\n      <th>650</th>\n      <td>Farris</td>\n      <td>Abusad</td>\n      <td>farrisabusad1@gmail.com</td>\n      <td>7863879295</td>\n      <td>Core Service | 3 Pack</td>\n      <td>$50.00</td>\n    </tr>\n    <tr>\n      <th>690</th>\n      <td>Marianna</td>\n      <td>Dubinsky</td>\n      <td>nouvellehomemiami@gmail.com</td>\n      <td>7866064445</td>\n      <td>Core Service | 3 Pack</td>\n      <td>$50.00</td>\n    </tr>\n    <tr>\n      <th>700</th>\n      <td>Alice</td>\n      <td>Mendes</td>\n      <td>alicemendesfit@gmail.com</td>\n      <td>2039217993</td>\n      <td>Core Service | 3 Pack</td>\n      <td>$50.00</td>\n    </tr>\n    <tr>\n      <th>712</th>\n      <td>Randi</td>\n      <td>Rosenberg</td>\n      <td>dandi1978@aol.com</td>\n      <td>3055276529</td>\n      <td>Core Service | 3 Pack</td>\n      <td>$50.00</td>\n    </tr>\n    <tr>\n      <th>773</th>\n      <td>Rene</td>\n      <td>Ramirez</td>\n      <td>kingsluggers@gmail.com</td>\n      <td>7863467162</td>\n      <td>Core Service | 3 Pack</td>\n      <td>$50.00</td>\n    </tr>\n    <tr>\n      <th>801</th>\n      <td>Iraida</td>\n      <td>Garcia</td>\n      <td>advancedliens@bellsouth.net</td>\n      <td>3052447536</td>\n      <td>Core Service | 3 Pack</td>\n      <td>$50.00</td>\n    </tr>\n    <tr>\n      <th>850</th>\n      <td>Brigitte</td>\n      <td>Valdera</td>\n      <td>cestrada0225@gmail.com</td>\n      <td>3057538703</td>\n      <td>Core Service | 3 Pack</td>\n      <td>$50.00</td>\n    </tr>\n    <tr>\n      <th>854</th>\n      <td>Hannah</td>\n      <td>Hartley</td>\n      <td>hlhartley1@gmail.com</td>\n      <td>3052979110</td>\n      <td>Core Service | 3 Pack</td>\n      <td>$50.00</td>\n    </tr>\n    <tr>\n      <th>863</th>\n      <td>Traci</td>\n      <td>Cole</td>\n      <td>leidback@comcast.net</td>\n      <td>3037968838</td>\n      <td>Core Service | 3 Pack</td>\n      <td>$50.00</td>\n    </tr>\n    <tr>\n      <th>876</th>\n      <td>Alain</td>\n      <td>Piloto-Rios</td>\n      <td>aprios79@yahoo.es</td>\n      <td>5024359577</td>\n      <td>Core Service | 3 Pack</td>\n      <td>$50.00</td>\n    </tr>\n    <tr>\n      <th>943</th>\n      <td>Charlotte</td>\n      <td>De Paula</td>\n      <td>turleyjewelers@yahoo.com</td>\n      <td>3058019051</td>\n      <td>Core Service | 3 Pack</td>\n      <td>$50.00</td>\n    </tr>\n    <tr>\n      <th>955</th>\n      <td>Andres</td>\n      <td>Rodriguez</td>\n      <td>iortiz@universalelite.com</td>\n      <td>7862710654</td>\n      <td>Core Service | 3 Pack</td>\n      <td>$50.00</td>\n    </tr>\n    <tr>\n      <th>1014</th>\n      <td>Ryan</td>\n      <td>Rangel</td>\n      <td>ryanrangel0622@gmail.com</td>\n      <td>7865475579</td>\n      <td>Core Service | 3 Pack</td>\n      <td>$50.00</td>\n    </tr>\n    <tr>\n      <th>1053</th>\n      <td>Ines</td>\n      <td>Mamder</td>\n      <td>neshinava@bellsouth.new</td>\n      <td>3058981552</td>\n      <td>Core Service | 3 Pack</td>\n      <td>$50.00</td>\n    </tr>\n    <tr>\n      <th>1072</th>\n      <td>Struan</td>\n      <td>Mckenize</td>\n      <td>jennyjmarkham@gmail.com</td>\n      <td>3059033358</td>\n      <td>Core Service | 3 Pack</td>\n      <td>$50.00</td>\n    </tr>\n    <tr>\n      <th>1219</th>\n      <td>Marchetti</td>\n      <td>Anthoney</td>\n      <td>suem-21401@yahoo.com</td>\n      <td>4108049688</td>\n      <td>Core Service | 3 Pack</td>\n      <td>$50.00</td>\n    </tr>\n    <tr>\n      <th>1285</th>\n      <td>Victor</td>\n      <td>Calvo</td>\n      <td>victorcalvomd@gmail.com</td>\n      <td>3059922129</td>\n      <td>Core Service | 3 Pack</td>\n      <td>$50.00</td>\n    </tr>\n    <tr>\n      <th>1288</th>\n      <td>Zyad</td>\n      <td>Wright</td>\n      <td>zyadwright@gmail.com</td>\n      <td>7868518598</td>\n      <td>Core Service | 3 Pack</td>\n      <td>$50.00</td>\n    </tr>\n    <tr>\n      <th>1314</th>\n      <td>Christian</td>\n      <td>Bridges</td>\n      <td>christianbridges@yahoo.com</td>\n      <td>7862986914</td>\n      <td>Core Service | 3 Pack</td>\n      <td>$50.00</td>\n    </tr>\n    <tr>\n      <th>1316</th>\n      <td>Jennifer</td>\n      <td>Linares</td>\n      <td>linares_jennifer@hotmail.com</td>\n      <td>3053890464</td>\n      <td>Core Service | 3 Pack</td>\n      <td>$117.60</td>\n    </tr>\n    <tr>\n      <th>1338</th>\n      <td>Iraida</td>\n      <td>Garcia</td>\n      <td>advancedliens@bellsouth.net</td>\n      <td>3052447536</td>\n      <td>Core Service | 3 Pack</td>\n      <td>$50.00</td>\n    </tr>\n    <tr>\n      <th>1362</th>\n      <td>Stephanie</td>\n      <td>Parra</td>\n      <td>sparr007@fiu.edu</td>\n      <td>7869161161</td>\n      <td>Core Service | 3 Pack</td>\n      <td>$50.00</td>\n    </tr>\n    <tr>\n      <th>1476</th>\n      <td>Jaclyn</td>\n      <td>Buckreis</td>\n      <td>jaclyn.buckreis@gmail.com</td>\n      <td>7039407718</td>\n      <td>Core Service | 3 Pack</td>\n      <td>$50.00</td>\n    </tr>\n    <tr>\n      <th>1516</th>\n      <td>Gina</td>\n      <td>Fiallo</td>\n      <td>cyfi45@gmail.com</td>\n      <td>3057903863</td>\n      <td>Core Service | 3 Pack</td>\n      <td>$50.00</td>\n    </tr>\n    <tr>\n      <th>1524</th>\n      <td>Santiago</td>\n      <td>Burgos</td>\n      <td>santiago23burgos@hotmail.com</td>\n      <td>7863283157</td>\n      <td>Core Service | 3 Pack</td>\n      <td>$50.00</td>\n    </tr>\n    <tr>\n      <th>1525</th>\n      <td>Monica</td>\n      <td>Zabian</td>\n      <td>monasoccer18@hotmail.com</td>\n      <td>7866606710</td>\n      <td>Core Service | 3 Pack</td>\n      <td>$50.00</td>\n    </tr>\n    <tr>\n      <th>1541</th>\n      <td>Levar</td>\n      <td>Walker</td>\n      <td>lwfamily2457@gmail.com</td>\n      <td>7865212539</td>\n      <td>Core Service | 3 Pack</td>\n      <td>$100.00</td>\n    </tr>\n    <tr>\n      <th>1569</th>\n      <td>Melanie</td>\n      <td>Kayser</td>\n      <td>maohara@comcast.net</td>\n      <td>2022509865</td>\n      <td>Core Service | 3 Pack</td>\n      <td>$50.00</td>\n    </tr>\n    <tr>\n      <th>1574</th>\n      <td>Yanisset</td>\n      <td>Urra</td>\n      <td>yanisset@yahoo.com</td>\n      <td>7868180630</td>\n      <td>Core Service | 3 Pack</td>\n      <td>$50.00</td>\n    </tr>\n    <tr>\n      <th>1582</th>\n      <td>Yanisset</td>\n      <td>Urra</td>\n      <td>yanisset@yahoo.com</td>\n      <td>7868180630</td>\n      <td>Core Service | 3 Pack</td>\n      <td>$100.00</td>\n    </tr>\n    <tr>\n      <th>1670</th>\n      <td>Belkis</td>\n      <td>Kern</td>\n      <td>belkiskern.realtor@gmail.com</td>\n      <td>7863682973</td>\n      <td>Core Service | 3 Pack</td>\n      <td>$50.00</td>\n    </tr>\n    <tr>\n      <th>1763</th>\n      <td>Davis</td>\n      <td>Marchus</td>\n      <td>davismarchus@outlook.com</td>\n      <td>3057102128</td>\n      <td>Core Service | 3 Pack</td>\n      <td>$50.00</td>\n    </tr>\n  </tbody>\n</table>\n</div>"
          },
          "metadata": {}
        }
      ],
      "execution_count": 109
    },
    {
      "cell_type": "code",
      "source": "## As you can see, some of the purchases aren't $50. Let's filter that and alter the original dataset by setting it to a new variable (with the same name)\ndf_3_for_50 = df_3_for_50.loc[(df_3_for_50['Item'] == 'Core Service | 3 Pack') & (df_3_for_50['Total'] == '$50.00')]",
      "metadata": {
        "trusted": true
      },
      "outputs": [],
      "execution_count": 110
    },
    {
      "cell_type": "markdown",
      "source": "## Making the data Actionable",
      "metadata": {}
    },
    {
      "cell_type": "code",
      "source": "## Since they will be sending texts, lets get a list of names and numbers\n## First, we'll give them some new indexes\n## We'll also alter the original dataset by setting it to a new variable (again, with the same name)\ndf_3_for_50 = df_3_for_50.reset_index()\n\n## Printing\ndf_3_for_50.head(10)",
      "metadata": {
        "trusted": true
      },
      "outputs": [
        {
          "execution_count": 114,
          "output_type": "execute_result",
          "data": {
            "text/plain": "   index First Name Last Name                       Email     Phone #  \\\n0      0      Nikki     Perez      misslashawn1@yahoo.com  7866005444   \n1      1       Luis    Peraza    goldenfence305@gmail.com  3055251616   \n2      2      Bella     Rozay    rosemomey2021@icloud.com  7866659820   \n3      3     Olivia   Cajigas   olivia@oec-consulting.com  3059650425   \n4      4     Alexis     Ferro   alexisferro1128@gmail.com  3057330441   \n5      5       Jose    Ferrro           jmf1128@gmail.com  3052826372   \n6      6  Claudette     Casal      claudettecasal@att.net  3056063685   \n7      7  Christina    Xiques           cxgravier@aol.com  3052990750   \n8      8  Christian   Hollant  christianhollant@yahoo.com  3057834767   \n9      9   Jennifer    Kanold           jenkanold@mac.com  7866507701   \n\n                    Item   Total  \n0  Core Service | 3 Pack  $50.00  \n1  Core Service | 3 Pack  $50.00  \n2  Core Service | 3 Pack  $50.00  \n3  Core Service | 3 Pack  $50.00  \n4  Core Service | 3 Pack  $50.00  \n5  Core Service | 3 Pack  $50.00  \n6  Core Service | 3 Pack  $50.00  \n7  Core Service | 3 Pack  $50.00  \n8  Core Service | 3 Pack  $50.00  \n9  Core Service | 3 Pack  $50.00  ",
            "text/html": "<div>\n<style scoped>\n    .dataframe tbody tr th:only-of-type {\n        vertical-align: middle;\n    }\n\n    .dataframe tbody tr th {\n        vertical-align: top;\n    }\n\n    .dataframe thead th {\n        text-align: right;\n    }\n</style>\n<table border=\"1\" class=\"dataframe\">\n  <thead>\n    <tr style=\"text-align: right;\">\n      <th></th>\n      <th>index</th>\n      <th>First Name</th>\n      <th>Last Name</th>\n      <th>Email</th>\n      <th>Phone #</th>\n      <th>Item</th>\n      <th>Total</th>\n    </tr>\n  </thead>\n  <tbody>\n    <tr>\n      <th>0</th>\n      <td>0</td>\n      <td>Nikki</td>\n      <td>Perez</td>\n      <td>misslashawn1@yahoo.com</td>\n      <td>7866005444</td>\n      <td>Core Service | 3 Pack</td>\n      <td>$50.00</td>\n    </tr>\n    <tr>\n      <th>1</th>\n      <td>1</td>\n      <td>Luis</td>\n      <td>Peraza</td>\n      <td>goldenfence305@gmail.com</td>\n      <td>3055251616</td>\n      <td>Core Service | 3 Pack</td>\n      <td>$50.00</td>\n    </tr>\n    <tr>\n      <th>2</th>\n      <td>2</td>\n      <td>Bella</td>\n      <td>Rozay</td>\n      <td>rosemomey2021@icloud.com</td>\n      <td>7866659820</td>\n      <td>Core Service | 3 Pack</td>\n      <td>$50.00</td>\n    </tr>\n    <tr>\n      <th>3</th>\n      <td>3</td>\n      <td>Olivia</td>\n      <td>Cajigas</td>\n      <td>olivia@oec-consulting.com</td>\n      <td>3059650425</td>\n      <td>Core Service | 3 Pack</td>\n      <td>$50.00</td>\n    </tr>\n    <tr>\n      <th>4</th>\n      <td>4</td>\n      <td>Alexis</td>\n      <td>Ferro</td>\n      <td>alexisferro1128@gmail.com</td>\n      <td>3057330441</td>\n      <td>Core Service | 3 Pack</td>\n      <td>$50.00</td>\n    </tr>\n    <tr>\n      <th>5</th>\n      <td>5</td>\n      <td>Jose</td>\n      <td>Ferrro</td>\n      <td>jmf1128@gmail.com</td>\n      <td>3052826372</td>\n      <td>Core Service | 3 Pack</td>\n      <td>$50.00</td>\n    </tr>\n    <tr>\n      <th>6</th>\n      <td>6</td>\n      <td>Claudette</td>\n      <td>Casal</td>\n      <td>claudettecasal@att.net</td>\n      <td>3056063685</td>\n      <td>Core Service | 3 Pack</td>\n      <td>$50.00</td>\n    </tr>\n    <tr>\n      <th>7</th>\n      <td>7</td>\n      <td>Christina</td>\n      <td>Xiques</td>\n      <td>cxgravier@aol.com</td>\n      <td>3052990750</td>\n      <td>Core Service | 3 Pack</td>\n      <td>$50.00</td>\n    </tr>\n    <tr>\n      <th>8</th>\n      <td>8</td>\n      <td>Christian</td>\n      <td>Hollant</td>\n      <td>christianhollant@yahoo.com</td>\n      <td>3057834767</td>\n      <td>Core Service | 3 Pack</td>\n      <td>$50.00</td>\n    </tr>\n    <tr>\n      <th>9</th>\n      <td>9</td>\n      <td>Jennifer</td>\n      <td>Kanold</td>\n      <td>jenkanold@mac.com</td>\n      <td>7866507701</td>\n      <td>Core Service | 3 Pack</td>\n      <td>$50.00</td>\n    </tr>\n  </tbody>\n</table>\n</div>"
          },
          "metadata": {}
        }
      ],
      "execution_count": 114
    },
    {
      "cell_type": "code",
      "source": "## Now we can get rid of the new index column as it is not needed\ndf_3_for_50 = df_3_for_50.drop(columns=['index'])\n\n## Printing\ndf_3_for_50.head(10)",
      "metadata": {
        "trusted": true
      },
      "outputs": [
        {
          "execution_count": 115,
          "output_type": "execute_result",
          "data": {
            "text/plain": "  First Name Last Name                       Email     Phone #  \\\n0      Nikki     Perez      misslashawn1@yahoo.com  7866005444   \n1       Luis    Peraza    goldenfence305@gmail.com  3055251616   \n2      Bella     Rozay    rosemomey2021@icloud.com  7866659820   \n3     Olivia   Cajigas   olivia@oec-consulting.com  3059650425   \n4     Alexis     Ferro   alexisferro1128@gmail.com  3057330441   \n5       Jose    Ferrro           jmf1128@gmail.com  3052826372   \n6  Claudette     Casal      claudettecasal@att.net  3056063685   \n7  Christina    Xiques           cxgravier@aol.com  3052990750   \n8  Christian   Hollant  christianhollant@yahoo.com  3057834767   \n9   Jennifer    Kanold           jenkanold@mac.com  7866507701   \n\n                    Item   Total  \n0  Core Service | 3 Pack  $50.00  \n1  Core Service | 3 Pack  $50.00  \n2  Core Service | 3 Pack  $50.00  \n3  Core Service | 3 Pack  $50.00  \n4  Core Service | 3 Pack  $50.00  \n5  Core Service | 3 Pack  $50.00  \n6  Core Service | 3 Pack  $50.00  \n7  Core Service | 3 Pack  $50.00  \n8  Core Service | 3 Pack  $50.00  \n9  Core Service | 3 Pack  $50.00  ",
            "text/html": "<div>\n<style scoped>\n    .dataframe tbody tr th:only-of-type {\n        vertical-align: middle;\n    }\n\n    .dataframe tbody tr th {\n        vertical-align: top;\n    }\n\n    .dataframe thead th {\n        text-align: right;\n    }\n</style>\n<table border=\"1\" class=\"dataframe\">\n  <thead>\n    <tr style=\"text-align: right;\">\n      <th></th>\n      <th>First Name</th>\n      <th>Last Name</th>\n      <th>Email</th>\n      <th>Phone #</th>\n      <th>Item</th>\n      <th>Total</th>\n    </tr>\n  </thead>\n  <tbody>\n    <tr>\n      <th>0</th>\n      <td>Nikki</td>\n      <td>Perez</td>\n      <td>misslashawn1@yahoo.com</td>\n      <td>7866005444</td>\n      <td>Core Service | 3 Pack</td>\n      <td>$50.00</td>\n    </tr>\n    <tr>\n      <th>1</th>\n      <td>Luis</td>\n      <td>Peraza</td>\n      <td>goldenfence305@gmail.com</td>\n      <td>3055251616</td>\n      <td>Core Service | 3 Pack</td>\n      <td>$50.00</td>\n    </tr>\n    <tr>\n      <th>2</th>\n      <td>Bella</td>\n      <td>Rozay</td>\n      <td>rosemomey2021@icloud.com</td>\n      <td>7866659820</td>\n      <td>Core Service | 3 Pack</td>\n      <td>$50.00</td>\n    </tr>\n    <tr>\n      <th>3</th>\n      <td>Olivia</td>\n      <td>Cajigas</td>\n      <td>olivia@oec-consulting.com</td>\n      <td>3059650425</td>\n      <td>Core Service | 3 Pack</td>\n      <td>$50.00</td>\n    </tr>\n    <tr>\n      <th>4</th>\n      <td>Alexis</td>\n      <td>Ferro</td>\n      <td>alexisferro1128@gmail.com</td>\n      <td>3057330441</td>\n      <td>Core Service | 3 Pack</td>\n      <td>$50.00</td>\n    </tr>\n    <tr>\n      <th>5</th>\n      <td>Jose</td>\n      <td>Ferrro</td>\n      <td>jmf1128@gmail.com</td>\n      <td>3052826372</td>\n      <td>Core Service | 3 Pack</td>\n      <td>$50.00</td>\n    </tr>\n    <tr>\n      <th>6</th>\n      <td>Claudette</td>\n      <td>Casal</td>\n      <td>claudettecasal@att.net</td>\n      <td>3056063685</td>\n      <td>Core Service | 3 Pack</td>\n      <td>$50.00</td>\n    </tr>\n    <tr>\n      <th>7</th>\n      <td>Christina</td>\n      <td>Xiques</td>\n      <td>cxgravier@aol.com</td>\n      <td>3052990750</td>\n      <td>Core Service | 3 Pack</td>\n      <td>$50.00</td>\n    </tr>\n    <tr>\n      <th>8</th>\n      <td>Christian</td>\n      <td>Hollant</td>\n      <td>christianhollant@yahoo.com</td>\n      <td>3057834767</td>\n      <td>Core Service | 3 Pack</td>\n      <td>$50.00</td>\n    </tr>\n    <tr>\n      <th>9</th>\n      <td>Jennifer</td>\n      <td>Kanold</td>\n      <td>jenkanold@mac.com</td>\n      <td>7866507701</td>\n      <td>Core Service | 3 Pack</td>\n      <td>$50.00</td>\n    </tr>\n  </tbody>\n</table>\n</div>"
          },
          "metadata": {}
        }
      ],
      "execution_count": 115
    },
    {
      "cell_type": "code",
      "source": "## Knowing that texts will be sent, let's get some first names and phone numbers and put it in a list\n## The names of the columns must together for this to work so let's do that first\ndf_3_for_50 = df_3_for_50.rename(columns={\"First Name\": \"first_name\"})\ndf_3_for_50 = df_3_for_50.rename(columns={\"Phone #\": \"number\"})\ndf_3_for_50 = df_3_for_50.rename(columns={\"Last Name\": \"last_name\"})",
      "metadata": {
        "trusted": true
      },
      "outputs": [],
      "execution_count": 116
    },
    {
      "cell_type": "markdown",
      "source": "<font size=\"5\">Making the list</font>",
      "metadata": {}
    },
    {
      "cell_type": "code",
      "source": "## Next, let's make a list\ntext_list = []\n\n## Then we'll write what we want in the list\nfor index, rows in df_3_for_50.iterrows():\n    my_list = [rows.first_name, rows.last_name, rows.number]\n    text_list.append(my_list)\n\n## Finally, we'll print out the list\nprint(text_list)",
      "metadata": {
        "trusted": true
      },
      "outputs": [
        {
          "name": "stdout",
          "text": "[['Nikki', 'Perez', '7866005444'], ['Luis', 'Peraza', '3055251616'], ['Bella', 'Rozay', '7866659820'], ['Olivia', 'Cajigas', '3059650425'], ['Alexis', 'Ferro', '3057330441'], ['Jose', 'Ferrro', '3052826372'], ['Claudette', 'Casal', '3056063685'], ['Christina', 'Xiques', '3052990750'], ['Christian', 'Hollant', '3057834767'], ['Jennifer', 'Kanold', '7866507701'], ['Aileen', 'Permuy', '7863516816'], ['David', 'Bratt', '7866266537'], ['Rigoberto', 'Valverde', '7869260546'], ['Abigail', 'Pereira', '3054841851'], ['Natalie', 'Llopis', '3059019723'], ['Farris', 'Abusad', '7863879295'], ['Marianna', 'Dubinsky', '7866064445'], ['Alice', 'Mendes', '2039217993'], ['Randi', 'Rosenberg', '3055276529'], ['Rene', 'Ramirez', '7863467162'], ['Iraida', 'Garcia', '3052447536'], ['Brigitte', 'Valdera', '3057538703'], ['Hannah', 'Hartley', '3052979110'], ['Traci', 'Cole', '3037968838'], ['Alain', 'Piloto-Rios', '5024359577'], ['Charlotte', 'De Paula', '3058019051'], ['Andres', 'Rodriguez', '7862710654'], ['Ryan', 'Rangel', '7865475579'], ['Ines', 'Mamder', '3058981552'], ['Struan', 'Mckenize', '3059033358'], ['Marchetti', 'Anthoney', '4108049688'], ['Victor', 'Calvo', '3059922129'], ['Zyad', 'Wright', '7868518598'], ['Christian', 'Bridges', '7862986914'], ['Iraida', 'Garcia', '3052447536'], ['Stephanie', 'Parra', '7869161161'], ['Jaclyn', 'Buckreis', '7039407718'], ['Gina', 'Fiallo', '3057903863'], ['Santiago', 'Burgos', '7863283157'], ['Monica', 'Zabian', '7866606710'], ['Melanie', 'Kayser', '2022509865'], ['Yanisset', 'Urra', '7868180630'], ['Belkis', 'Kern', '7863682973'], ['Davis', 'Marchus', '3057102128']]\n",
          "output_type": "stream"
        }
      ],
      "execution_count": 117
    },
    {
      "cell_type": "code",
      "source": "## The last thing we have to do is create a data frame with all the names and numbers that corospond with this 3 for $50 deal\nfinal_text_list = pd.DataFrame(text_list, columns=['first_name', 'last_name', 'phone_number'])\n\n## Printing\nfinal_text_list.head(10)",
      "metadata": {
        "trusted": true
      },
      "outputs": [
        {
          "execution_count": 118,
          "output_type": "execute_result",
          "data": {
            "text/plain": "  first_name last_name phone_number\n0      Nikki     Perez   7866005444\n1       Luis    Peraza   3055251616\n2      Bella     Rozay   7866659820\n3     Olivia   Cajigas   3059650425\n4     Alexis     Ferro   3057330441\n5       Jose    Ferrro   3052826372\n6  Claudette     Casal   3056063685\n7  Christina    Xiques   3052990750\n8  Christian   Hollant   3057834767\n9   Jennifer    Kanold   7866507701",
            "text/html": "<div>\n<style scoped>\n    .dataframe tbody tr th:only-of-type {\n        vertical-align: middle;\n    }\n\n    .dataframe tbody tr th {\n        vertical-align: top;\n    }\n\n    .dataframe thead th {\n        text-align: right;\n    }\n</style>\n<table border=\"1\" class=\"dataframe\">\n  <thead>\n    <tr style=\"text-align: right;\">\n      <th></th>\n      <th>first_name</th>\n      <th>last_name</th>\n      <th>phone_number</th>\n    </tr>\n  </thead>\n  <tbody>\n    <tr>\n      <th>0</th>\n      <td>Nikki</td>\n      <td>Perez</td>\n      <td>7866005444</td>\n    </tr>\n    <tr>\n      <th>1</th>\n      <td>Luis</td>\n      <td>Peraza</td>\n      <td>3055251616</td>\n    </tr>\n    <tr>\n      <th>2</th>\n      <td>Bella</td>\n      <td>Rozay</td>\n      <td>7866659820</td>\n    </tr>\n    <tr>\n      <th>3</th>\n      <td>Olivia</td>\n      <td>Cajigas</td>\n      <td>3059650425</td>\n    </tr>\n    <tr>\n      <th>4</th>\n      <td>Alexis</td>\n      <td>Ferro</td>\n      <td>3057330441</td>\n    </tr>\n    <tr>\n      <th>5</th>\n      <td>Jose</td>\n      <td>Ferrro</td>\n      <td>3052826372</td>\n    </tr>\n    <tr>\n      <th>6</th>\n      <td>Claudette</td>\n      <td>Casal</td>\n      <td>3056063685</td>\n    </tr>\n    <tr>\n      <th>7</th>\n      <td>Christina</td>\n      <td>Xiques</td>\n      <td>3052990750</td>\n    </tr>\n    <tr>\n      <th>8</th>\n      <td>Christian</td>\n      <td>Hollant</td>\n      <td>3057834767</td>\n    </tr>\n    <tr>\n      <th>9</th>\n      <td>Jennifer</td>\n      <td>Kanold</td>\n      <td>7866507701</td>\n    </tr>\n  </tbody>\n</table>\n</div>"
          },
          "metadata": {}
        }
      ],
      "execution_count": 118
    },
    {
      "cell_type": "markdown",
      "source": "<font size=\"5\">Exporting the data</font>",
      "metadata": {}
    },
    {
      "cell_type": "code",
      "source": "## Now we can save this to an excel sheet so it is easily accessable to the team\nfinal_text_list.to_excel(\"3_for_50_list.xlsx\")",
      "metadata": {
        "trusted": true
      },
      "outputs": [],
      "execution_count": null
    },
    {
      "cell_type": "markdown",
      "source": "## Medical Credit Balance",
      "metadata": {}
    },
    {
      "cell_type": "markdown",
      "source": "<font size=\"5\">Reading Medical Credit Balance</font>",
      "metadata": {}
    },
    {
      "cell_type": "code",
      "source": "## Let's get ready to work on the medical credit balance\n## First, we'll load the data again and look at it\ndf_medical = pd.read_csv('balance_medical_services.csv')\n\n## Printing\ndf_medical.head(5)",
      "metadata": {
        "trusted": true
      },
      "outputs": [
        {
          "execution_count": 128,
          "output_type": "execute_result",
          "data": {
            "text/plain": "     Studio Name  Day of Issue Date Day of Expire Date  Client ID  \\\n0  Pinecrest, FL  November 21, 2023  February 29, 2024     969062   \n1  Pinecrest, FL   December 1, 2023     March 10, 2024     840386   \n2  Pinecrest, FL  December 20, 2023     March 29, 2024     969062   \n3  Pinecrest, FL       July 8, 2023   January 24, 2024     926215   \n4  Pinecrest, FL    August 23, 2023     March 10, 2024     231125   \n\n        Full Name                      Email     Phone #  \\\n0   Greg - Solano      greg.solano@gmail.com  3054317251   \n1  Billy - Zanski  info@skinnybeatsdrums.com  8287682826   \n2   Greg - Solano      greg.solano@gmail.com  3054317251   \n3     Donny - Tse   donnychiang888@gmail.com  9173740964   \n4   David - Adler      dadler@adlergroup.com  3055629241   \n\n      Credit Description  Remaining Credits    Max date  \n0   10 Ingredient Bundle                  6  12/20/2023  \n1   10 Ingredient Bundle                 10  12/20/2023  \n2   10 Ingredient Bundle                 10  12/20/2023  \n3  100 Ingredient Bundle                 41  12/20/2023  \n4  100 Ingredient Bundle                 89  12/20/2023  ",
            "text/html": "<div>\n<style scoped>\n    .dataframe tbody tr th:only-of-type {\n        vertical-align: middle;\n    }\n\n    .dataframe tbody tr th {\n        vertical-align: top;\n    }\n\n    .dataframe thead th {\n        text-align: right;\n    }\n</style>\n<table border=\"1\" class=\"dataframe\">\n  <thead>\n    <tr style=\"text-align: right;\">\n      <th></th>\n      <th>Studio Name</th>\n      <th>Day of Issue Date</th>\n      <th>Day of Expire Date</th>\n      <th>Client ID</th>\n      <th>Full Name</th>\n      <th>Email</th>\n      <th>Phone #</th>\n      <th>Credit Description</th>\n      <th>Remaining Credits</th>\n      <th>Max date</th>\n    </tr>\n  </thead>\n  <tbody>\n    <tr>\n      <th>0</th>\n      <td>Pinecrest, FL</td>\n      <td>November 21, 2023</td>\n      <td>February 29, 2024</td>\n      <td>969062</td>\n      <td>Greg - Solano</td>\n      <td>greg.solano@gmail.com</td>\n      <td>3054317251</td>\n      <td>10 Ingredient Bundle</td>\n      <td>6</td>\n      <td>12/20/2023</td>\n    </tr>\n    <tr>\n      <th>1</th>\n      <td>Pinecrest, FL</td>\n      <td>December 1, 2023</td>\n      <td>March 10, 2024</td>\n      <td>840386</td>\n      <td>Billy - Zanski</td>\n      <td>info@skinnybeatsdrums.com</td>\n      <td>8287682826</td>\n      <td>10 Ingredient Bundle</td>\n      <td>10</td>\n      <td>12/20/2023</td>\n    </tr>\n    <tr>\n      <th>2</th>\n      <td>Pinecrest, FL</td>\n      <td>December 20, 2023</td>\n      <td>March 29, 2024</td>\n      <td>969062</td>\n      <td>Greg - Solano</td>\n      <td>greg.solano@gmail.com</td>\n      <td>3054317251</td>\n      <td>10 Ingredient Bundle</td>\n      <td>10</td>\n      <td>12/20/2023</td>\n    </tr>\n    <tr>\n      <th>3</th>\n      <td>Pinecrest, FL</td>\n      <td>July 8, 2023</td>\n      <td>January 24, 2024</td>\n      <td>926215</td>\n      <td>Donny - Tse</td>\n      <td>donnychiang888@gmail.com</td>\n      <td>9173740964</td>\n      <td>100 Ingredient Bundle</td>\n      <td>41</td>\n      <td>12/20/2023</td>\n    </tr>\n    <tr>\n      <th>4</th>\n      <td>Pinecrest, FL</td>\n      <td>August 23, 2023</td>\n      <td>March 10, 2024</td>\n      <td>231125</td>\n      <td>David - Adler</td>\n      <td>dadler@adlergroup.com</td>\n      <td>3055629241</td>\n      <td>100 Ingredient Bundle</td>\n      <td>89</td>\n      <td>12/20/2023</td>\n    </tr>\n  </tbody>\n</table>\n</div>"
          },
          "metadata": {}
        }
      ],
      "execution_count": 128
    },
    {
      "cell_type": "code",
      "source": "## Again, we can get rid of columns that we dont need\ndf_medical = df_medical.drop(columns=['Studio Name', 'Day of Issue Date', 'Day of Expire Date', 'Client ID', 'Email', 'Max date'])\n\n## Printing\ndf_medical.head(5)",
      "metadata": {
        "trusted": true
      },
      "outputs": [
        {
          "execution_count": 129,
          "output_type": "execute_result",
          "data": {
            "text/plain": "        Full Name     Phone #     Credit Description  Remaining Credits\n0   Greg - Solano  3054317251   10 Ingredient Bundle                  6\n1  Billy - Zanski  8287682826   10 Ingredient Bundle                 10\n2   Greg - Solano  3054317251   10 Ingredient Bundle                 10\n3     Donny - Tse  9173740964  100 Ingredient Bundle                 41\n4   David - Adler  3055629241  100 Ingredient Bundle                 89",
            "text/html": "<div>\n<style scoped>\n    .dataframe tbody tr th:only-of-type {\n        vertical-align: middle;\n    }\n\n    .dataframe tbody tr th {\n        vertical-align: top;\n    }\n\n    .dataframe thead th {\n        text-align: right;\n    }\n</style>\n<table border=\"1\" class=\"dataframe\">\n  <thead>\n    <tr style=\"text-align: right;\">\n      <th></th>\n      <th>Full Name</th>\n      <th>Phone #</th>\n      <th>Credit Description</th>\n      <th>Remaining Credits</th>\n    </tr>\n  </thead>\n  <tbody>\n    <tr>\n      <th>0</th>\n      <td>Greg - Solano</td>\n      <td>3054317251</td>\n      <td>10 Ingredient Bundle</td>\n      <td>6</td>\n    </tr>\n    <tr>\n      <th>1</th>\n      <td>Billy - Zanski</td>\n      <td>8287682826</td>\n      <td>10 Ingredient Bundle</td>\n      <td>10</td>\n    </tr>\n    <tr>\n      <th>2</th>\n      <td>Greg - Solano</td>\n      <td>3054317251</td>\n      <td>10 Ingredient Bundle</td>\n      <td>10</td>\n    </tr>\n    <tr>\n      <th>3</th>\n      <td>Donny - Tse</td>\n      <td>9173740964</td>\n      <td>100 Ingredient Bundle</td>\n      <td>41</td>\n    </tr>\n    <tr>\n      <th>4</th>\n      <td>David - Adler</td>\n      <td>3055629241</td>\n      <td>100 Ingredient Bundle</td>\n      <td>89</td>\n    </tr>\n  </tbody>\n</table>\n</div>"
          },
          "metadata": {}
        }
      ],
      "execution_count": 129
    },
    {
      "cell_type": "code",
      "source": "## We were told to reach out to those that have 60% utilization of their pack\n## To start, We're going to have to extract the integers from the credit description because our tech team messed up\n## To do this we'll use the reg ex library\nimport re\n\n## Let's make a new column and populate it with the integers\ndf_medical['initial_credits'] = df_medical['Credit Description'].astype(str).str.extract(r'(\\d+)', expand=False)\n\n## Printing\ndf_medical.head(5)",
      "metadata": {
        "trusted": true
      },
      "outputs": [
        {
          "execution_count": 130,
          "output_type": "execute_result",
          "data": {
            "text/plain": "        Full Name     Phone #     Credit Description  Remaining Credits  \\\n0   Greg - Solano  3054317251   10 Ingredient Bundle                  6   \n1  Billy - Zanski  8287682826   10 Ingredient Bundle                 10   \n2   Greg - Solano  3054317251   10 Ingredient Bundle                 10   \n3     Donny - Tse  9173740964  100 Ingredient Bundle                 41   \n4   David - Adler  3055629241  100 Ingredient Bundle                 89   \n\n  initial_credits  \n0              10  \n1              10  \n2              10  \n3             100  \n4             100  ",
            "text/html": "<div>\n<style scoped>\n    .dataframe tbody tr th:only-of-type {\n        vertical-align: middle;\n    }\n\n    .dataframe tbody tr th {\n        vertical-align: top;\n    }\n\n    .dataframe thead th {\n        text-align: right;\n    }\n</style>\n<table border=\"1\" class=\"dataframe\">\n  <thead>\n    <tr style=\"text-align: right;\">\n      <th></th>\n      <th>Full Name</th>\n      <th>Phone #</th>\n      <th>Credit Description</th>\n      <th>Remaining Credits</th>\n      <th>initial_credits</th>\n    </tr>\n  </thead>\n  <tbody>\n    <tr>\n      <th>0</th>\n      <td>Greg - Solano</td>\n      <td>3054317251</td>\n      <td>10 Ingredient Bundle</td>\n      <td>6</td>\n      <td>10</td>\n    </tr>\n    <tr>\n      <th>1</th>\n      <td>Billy - Zanski</td>\n      <td>8287682826</td>\n      <td>10 Ingredient Bundle</td>\n      <td>10</td>\n      <td>10</td>\n    </tr>\n    <tr>\n      <th>2</th>\n      <td>Greg - Solano</td>\n      <td>3054317251</td>\n      <td>10 Ingredient Bundle</td>\n      <td>10</td>\n      <td>10</td>\n    </tr>\n    <tr>\n      <th>3</th>\n      <td>Donny - Tse</td>\n      <td>9173740964</td>\n      <td>100 Ingredient Bundle</td>\n      <td>41</td>\n      <td>100</td>\n    </tr>\n    <tr>\n      <th>4</th>\n      <td>David - Adler</td>\n      <td>3055629241</td>\n      <td>100 Ingredient Bundle</td>\n      <td>89</td>\n      <td>100</td>\n    </tr>\n  </tbody>\n</table>\n</div>"
          },
          "metadata": {}
        }
      ],
      "execution_count": 130
    },
    {
      "cell_type": "code",
      "source": "## As mentioned before, we are trying to the ones who have 60% utilization of their packs\n## We'll make a list first so we can make a dataframe out of it later\nmedical_pack_list = []\n\n## The names of the table also have to be changed so it is all connected\ndf_medical = df_medical.rename(columns={'Full Name': 'full_name'})\ndf_medical = df_medical.rename(columns={'Phone #': 'phone'})\ndf_medical = df_medical.rename(columns={'Credit Description': 'credit_description'})\ndf_medical = df_medical.rename(columns={'Remaining Credits': 'remaining_credits'})\n\n## Printing\ndf_medical",
      "metadata": {
        "trusted": true
      },
      "outputs": [
        {
          "execution_count": 131,
          "output_type": "execute_result",
          "data": {
            "text/plain": "           full_name       phone     credit_description  remaining_credits  \\\n0      Greg - Solano  3054317251   10 Ingredient Bundle                  6   \n1     Billy - Zanski  8287682826   10 Ingredient Bundle                 10   \n2      Greg - Solano  3054317251   10 Ingredient Bundle                 10   \n3        Donny - Tse  9173740964  100 Ingredient Bundle                 41   \n4      David - Adler  3055629241  100 Ingredient Bundle                 89   \n5   Amanda - Fuentes  3053056025   30 Ingredient Bundle                 19   \n6   Mario - Finamore  7866815056   30 Ingredient Bundle                 20   \n7  Lissette - Aguila  7862952181   30 Ingredient Bundle                 10   \n8    Marc - Anderson  9084163153   30 Ingredient Bundle                 30   \n9     Megan - Hamann  8594217809   30 Ingredient Bundle                 28   \n\n  initial_credits  \n0              10  \n1              10  \n2              10  \n3             100  \n4             100  \n5              30  \n6              30  \n7              30  \n8              30  \n9              30  ",
            "text/html": "<div>\n<style scoped>\n    .dataframe tbody tr th:only-of-type {\n        vertical-align: middle;\n    }\n\n    .dataframe tbody tr th {\n        vertical-align: top;\n    }\n\n    .dataframe thead th {\n        text-align: right;\n    }\n</style>\n<table border=\"1\" class=\"dataframe\">\n  <thead>\n    <tr style=\"text-align: right;\">\n      <th></th>\n      <th>full_name</th>\n      <th>phone</th>\n      <th>credit_description</th>\n      <th>remaining_credits</th>\n      <th>initial_credits</th>\n    </tr>\n  </thead>\n  <tbody>\n    <tr>\n      <th>0</th>\n      <td>Greg - Solano</td>\n      <td>3054317251</td>\n      <td>10 Ingredient Bundle</td>\n      <td>6</td>\n      <td>10</td>\n    </tr>\n    <tr>\n      <th>1</th>\n      <td>Billy - Zanski</td>\n      <td>8287682826</td>\n      <td>10 Ingredient Bundle</td>\n      <td>10</td>\n      <td>10</td>\n    </tr>\n    <tr>\n      <th>2</th>\n      <td>Greg - Solano</td>\n      <td>3054317251</td>\n      <td>10 Ingredient Bundle</td>\n      <td>10</td>\n      <td>10</td>\n    </tr>\n    <tr>\n      <th>3</th>\n      <td>Donny - Tse</td>\n      <td>9173740964</td>\n      <td>100 Ingredient Bundle</td>\n      <td>41</td>\n      <td>100</td>\n    </tr>\n    <tr>\n      <th>4</th>\n      <td>David - Adler</td>\n      <td>3055629241</td>\n      <td>100 Ingredient Bundle</td>\n      <td>89</td>\n      <td>100</td>\n    </tr>\n    <tr>\n      <th>5</th>\n      <td>Amanda - Fuentes</td>\n      <td>3053056025</td>\n      <td>30 Ingredient Bundle</td>\n      <td>19</td>\n      <td>30</td>\n    </tr>\n    <tr>\n      <th>6</th>\n      <td>Mario - Finamore</td>\n      <td>7866815056</td>\n      <td>30 Ingredient Bundle</td>\n      <td>20</td>\n      <td>30</td>\n    </tr>\n    <tr>\n      <th>7</th>\n      <td>Lissette - Aguila</td>\n      <td>7862952181</td>\n      <td>30 Ingredient Bundle</td>\n      <td>10</td>\n      <td>30</td>\n    </tr>\n    <tr>\n      <th>8</th>\n      <td>Marc - Anderson</td>\n      <td>9084163153</td>\n      <td>30 Ingredient Bundle</td>\n      <td>30</td>\n      <td>30</td>\n    </tr>\n    <tr>\n      <th>9</th>\n      <td>Megan - Hamann</td>\n      <td>8594217809</td>\n      <td>30 Ingredient Bundle</td>\n      <td>28</td>\n      <td>30</td>\n    </tr>\n  </tbody>\n</table>\n</div>"
          },
          "metadata": {}
        }
      ],
      "execution_count": 131
    },
    {
      "cell_type": "code",
      "source": "## There are going to be some decrepencies with this because some of the data from the 'Remainind Credits' column might not have numbers\n## Because of that, I'm going to go ahead and get rid of them as they will mess up the calculations\ndf_medical = df_medical.dropna()\n\n## Printing\ndf_medical\n\n## As you'll see, we went from 105 rows to 94",
      "metadata": {
        "trusted": true
      },
      "outputs": [
        {
          "execution_count": 132,
          "output_type": "execute_result",
          "data": {
            "text/plain": "              full_name       phone          credit_description  \\\n0         Greg - Solano  3054317251        10 Ingredient Bundle   \n1        Billy - Zanski  8287682826        10 Ingredient Bundle   \n2         Greg - Solano  3054317251        10 Ingredient Bundle   \n3           Donny - Tse  9173740964       100 Ingredient Bundle   \n4         David - Adler  3055629241       100 Ingredient Bundle   \n..                  ...         ...                         ...   \n100    Ingrid - Jimenez  7863696463  Signature IM Shot | 5 Pack   \n101     Beth - Erickson  3152866384  Signature IM Shot | 5 Pack   \n102     Manny - Ramirez  3059651626  Signature IM Shot | 5 Pack   \n103       Janet - Onate  9172911469  Signature IM Shot | 5 Pack   \n104  Christina - Xiques  3052990750  Signature IM Shot | 5 Pack   \n\n     remaining_credits initial_credits  \n0                    6              10  \n1                   10              10  \n2                   10              10  \n3                   41             100  \n4                   89             100  \n..                 ...             ...  \n100                  1               5  \n101                  3               5  \n102                  5               5  \n103                  1               5  \n104                  5               5  \n\n[94 rows x 5 columns]",
            "text/html": "<div>\n<style scoped>\n    .dataframe tbody tr th:only-of-type {\n        vertical-align: middle;\n    }\n\n    .dataframe tbody tr th {\n        vertical-align: top;\n    }\n\n    .dataframe thead th {\n        text-align: right;\n    }\n</style>\n<table border=\"1\" class=\"dataframe\">\n  <thead>\n    <tr style=\"text-align: right;\">\n      <th></th>\n      <th>full_name</th>\n      <th>phone</th>\n      <th>credit_description</th>\n      <th>remaining_credits</th>\n      <th>initial_credits</th>\n    </tr>\n  </thead>\n  <tbody>\n    <tr>\n      <th>0</th>\n      <td>Greg - Solano</td>\n      <td>3054317251</td>\n      <td>10 Ingredient Bundle</td>\n      <td>6</td>\n      <td>10</td>\n    </tr>\n    <tr>\n      <th>1</th>\n      <td>Billy - Zanski</td>\n      <td>8287682826</td>\n      <td>10 Ingredient Bundle</td>\n      <td>10</td>\n      <td>10</td>\n    </tr>\n    <tr>\n      <th>2</th>\n      <td>Greg - Solano</td>\n      <td>3054317251</td>\n      <td>10 Ingredient Bundle</td>\n      <td>10</td>\n      <td>10</td>\n    </tr>\n    <tr>\n      <th>3</th>\n      <td>Donny - Tse</td>\n      <td>9173740964</td>\n      <td>100 Ingredient Bundle</td>\n      <td>41</td>\n      <td>100</td>\n    </tr>\n    <tr>\n      <th>4</th>\n      <td>David - Adler</td>\n      <td>3055629241</td>\n      <td>100 Ingredient Bundle</td>\n      <td>89</td>\n      <td>100</td>\n    </tr>\n    <tr>\n      <th>...</th>\n      <td>...</td>\n      <td>...</td>\n      <td>...</td>\n      <td>...</td>\n      <td>...</td>\n    </tr>\n    <tr>\n      <th>100</th>\n      <td>Ingrid - Jimenez</td>\n      <td>7863696463</td>\n      <td>Signature IM Shot | 5 Pack</td>\n      <td>1</td>\n      <td>5</td>\n    </tr>\n    <tr>\n      <th>101</th>\n      <td>Beth - Erickson</td>\n      <td>3152866384</td>\n      <td>Signature IM Shot | 5 Pack</td>\n      <td>3</td>\n      <td>5</td>\n    </tr>\n    <tr>\n      <th>102</th>\n      <td>Manny - Ramirez</td>\n      <td>3059651626</td>\n      <td>Signature IM Shot | 5 Pack</td>\n      <td>5</td>\n      <td>5</td>\n    </tr>\n    <tr>\n      <th>103</th>\n      <td>Janet - Onate</td>\n      <td>9172911469</td>\n      <td>Signature IM Shot | 5 Pack</td>\n      <td>1</td>\n      <td>5</td>\n    </tr>\n    <tr>\n      <th>104</th>\n      <td>Christina - Xiques</td>\n      <td>3052990750</td>\n      <td>Signature IM Shot | 5 Pack</td>\n      <td>5</td>\n      <td>5</td>\n    </tr>\n  </tbody>\n</table>\n<p>94 rows × 5 columns</p>\n</div>"
          },
          "metadata": {}
        }
      ],
      "execution_count": 132
    },
    {
      "cell_type": "code",
      "source": "## Checking types\ndf_medical.dtypes",
      "metadata": {
        "trusted": true
      },
      "outputs": [
        {
          "execution_count": 133,
          "output_type": "execute_result",
          "data": {
            "text/plain": "full_name             object\nphone                  int64\ncredit_description    object\nremaining_credits      int64\ninitial_credits       object\ndtype: object"
          },
          "metadata": {}
        }
      ],
      "execution_count": 133
    },
    {
      "cell_type": "code",
      "source": "## As you can see the 'initial_credits' column is an object. We need it to be an int to perform calculations\n## To do that, we need to convert it to a string first, then we can make it an int\ndf_medical['initial_credits'] = df_medical['initial_credits'].astype(str).astype(int)\n\n## Checking type now\ndf_medical.dtypes",
      "metadata": {
        "trusted": true,
        "editable": true,
        "slideshow": {
          "slide_type": ""
        }
      },
      "outputs": [
        {
          "execution_count": 135,
          "output_type": "execute_result",
          "data": {
            "text/plain": "full_name             object\nphone                  int64\ncredit_description    object\nremaining_credits      int64\ninitial_credits        int32\ndtype: object"
          },
          "metadata": {}
        }
      ],
      "execution_count": 135
    },
    {
      "cell_type": "markdown",
      "source": "",
      "metadata": {}
    },
    {
      "cell_type": "code",
      "source": "df_medical.head(70)",
      "metadata": {
        "trusted": true
      },
      "outputs": [
        {
          "execution_count": 137,
          "output_type": "execute_result",
          "data": {
            "text/plain": "             full_name       phone                   credit_description  \\\n0        Greg - Solano  3054317251                 10 Ingredient Bundle   \n1       Billy - Zanski  8287682826                 10 Ingredient Bundle   \n2        Greg - Solano  3054317251                 10 Ingredient Bundle   \n3          Donny - Tse  9173740964                100 Ingredient Bundle   \n4        David - Adler  3055629241                100 Ingredient Bundle   \n..                 ...         ...                                  ...   \n74     David - Pouliot  3057977133  NAD+ IV Drip Therapy 750mg | 4 Pack   \n75  Kristina - Cabrera  7868592273  NAD+ IV Drip Therapy 750mg | 4 Pack   \n76        Susana - Lay  7863658685  NAD+ IV Drip Therapy 750mg | 4 Pack   \n77  Brendon - Brewster  2157407883    NAD+ IV Drip Therapy 750mg Credit   \n78       Neli - Lessee  3054500725    NAD+ IV Drip Therapy 750mg Credit   \n\n    remaining_credits  initial_credits  \n0                   6               10  \n1                  10               10  \n2                  10               10  \n3                  41              100  \n4                  89              100  \n..                ...              ...  \n74                  3              750  \n75                  4              750  \n76                  4              750  \n77                  1              750  \n78                  1              750  \n\n[70 rows x 5 columns]",
            "text/html": "<div>\n<style scoped>\n    .dataframe tbody tr th:only-of-type {\n        vertical-align: middle;\n    }\n\n    .dataframe tbody tr th {\n        vertical-align: top;\n    }\n\n    .dataframe thead th {\n        text-align: right;\n    }\n</style>\n<table border=\"1\" class=\"dataframe\">\n  <thead>\n    <tr style=\"text-align: right;\">\n      <th></th>\n      <th>full_name</th>\n      <th>phone</th>\n      <th>credit_description</th>\n      <th>remaining_credits</th>\n      <th>initial_credits</th>\n    </tr>\n  </thead>\n  <tbody>\n    <tr>\n      <th>0</th>\n      <td>Greg - Solano</td>\n      <td>3054317251</td>\n      <td>10 Ingredient Bundle</td>\n      <td>6</td>\n      <td>10</td>\n    </tr>\n    <tr>\n      <th>1</th>\n      <td>Billy - Zanski</td>\n      <td>8287682826</td>\n      <td>10 Ingredient Bundle</td>\n      <td>10</td>\n      <td>10</td>\n    </tr>\n    <tr>\n      <th>2</th>\n      <td>Greg - Solano</td>\n      <td>3054317251</td>\n      <td>10 Ingredient Bundle</td>\n      <td>10</td>\n      <td>10</td>\n    </tr>\n    <tr>\n      <th>3</th>\n      <td>Donny - Tse</td>\n      <td>9173740964</td>\n      <td>100 Ingredient Bundle</td>\n      <td>41</td>\n      <td>100</td>\n    </tr>\n    <tr>\n      <th>4</th>\n      <td>David - Adler</td>\n      <td>3055629241</td>\n      <td>100 Ingredient Bundle</td>\n      <td>89</td>\n      <td>100</td>\n    </tr>\n    <tr>\n      <th>...</th>\n      <td>...</td>\n      <td>...</td>\n      <td>...</td>\n      <td>...</td>\n      <td>...</td>\n    </tr>\n    <tr>\n      <th>74</th>\n      <td>David - Pouliot</td>\n      <td>3057977133</td>\n      <td>NAD+ IV Drip Therapy 750mg | 4 Pack</td>\n      <td>3</td>\n      <td>750</td>\n    </tr>\n    <tr>\n      <th>75</th>\n      <td>Kristina - Cabrera</td>\n      <td>7868592273</td>\n      <td>NAD+ IV Drip Therapy 750mg | 4 Pack</td>\n      <td>4</td>\n      <td>750</td>\n    </tr>\n    <tr>\n      <th>76</th>\n      <td>Susana - Lay</td>\n      <td>7863658685</td>\n      <td>NAD+ IV Drip Therapy 750mg | 4 Pack</td>\n      <td>4</td>\n      <td>750</td>\n    </tr>\n    <tr>\n      <th>77</th>\n      <td>Brendon - Brewster</td>\n      <td>2157407883</td>\n      <td>NAD+ IV Drip Therapy 750mg Credit</td>\n      <td>1</td>\n      <td>750</td>\n    </tr>\n    <tr>\n      <th>78</th>\n      <td>Neli - Lessee</td>\n      <td>3054500725</td>\n      <td>NAD+ IV Drip Therapy 750mg Credit</td>\n      <td>1</td>\n      <td>750</td>\n    </tr>\n  </tbody>\n</table>\n<p>70 rows × 5 columns</p>\n</div>"
          },
          "metadata": {}
        }
      ],
      "execution_count": 137
    },
    {
      "cell_type": "code",
      "source": "## As mentioned before, we are trying to the ones who have 60% utilization of their packs\n## We'll make a list first so we can make a dataframe out of it later\nmedical_pack_list = []\n\n## Now we can do some calculating\n## The .iterrows() function allows you to iterate through rows in a pandas datafram\n## We must make sure that we are working with integars when performing calculations\nfor index, row in df_medical.iterrows():\n    value = int(row['remaining_credits'])\n    total = int(row['initial_credits'])\n    calculated_percentage = (value / total) * 100\n    if calculated_percentage < 60:\n        my_list = [row.full_name, row.phone, row.credit_description, row.remaining_credits]\n        medical_pack_list.append(my_list)\n\n## As you see, we also put what Packaged they purchased as well as how many they have remaining\n## Let's print the list to check if it worked\nmedical_pack_list",
      "metadata": {
        "trusted": true
      },
      "outputs": [
        {
          "execution_count": 126,
          "output_type": "execute_result",
          "data": {
            "text/plain": "[['Donny - Tse', 9173740964, '100 Ingredient Bundle', 41],\n ['Lissette - Aguila', 7862952181, '30 Ingredient Bundle', 10],\n ['David - Pouliot', 3057977133, '50 Ingredient Bundle', 27],\n ['David - Walsh', 8476443433, '50 Ingredient Bundle', 27],\n ['Lindsey - Wolfson', 3055828891, 'Base IV Drip | 3 Pack', 1],\n ['Amanda - Fuentes',\n  3053056025,\n  'High Dose Glutathione 1200mg | 10 Pack',\n  10],\n ['Vilma - Cabrera', 3058014572, 'High Dose Glutathione 1200mg | 10 Pack', 5],\n ['Dacil - Espinosa', 7862094695, 'High Dose Glutathione 1200mg | 3 Pack', 2],\n ['Amanda - Fuentes', 3053056025, 'High Dose Vitamin C 20g | 10 Pack', 8],\n ['Amanda - Fuentes', 3053056025, 'High Dose Vitamin C 20g | 10 Pack', 10],\n ['Vilma - Cabrera', 3058014572, 'High Dose Vitamin C 30g | 10 Pack', 5],\n ['Adela - Pinilla', 7862605574, 'mHbOT | 60 min | 10 Pack', 7],\n ['Elizabeth - Heise', 3054316016, 'mHbOT | 60 min | 10 Pack', 5],\n ['Monika - Tefel', 7865020010, 'mHbOT | 60 min | 10 Pack', 3],\n ['Sara - Lowrey', 3059043182, 'mHbOT | 60 min | 10 Pack', 7],\n ['Nancy - Naranjo', 4804947198, 'mHbOT | 60 min | 10 Pack', 4],\n ['Juan - Anillo', 7864738195, 'mHbOT | 60 min | 10 Pack', 2],\n ['Megan - Hamann', 8594217809, 'mHbOT | 60 min | 10 Pack', 10],\n ['Iris - Suarez', 3053455577, 'mHbOT | 60 min | 10 Pack', 20],\n ['Roberto - Campillo', 3523284101, 'mHbOT | 60 min | 10 Pack', 2],\n ['Sophia - Rodriguez Ruso', 3054317479, 'mHbOT | 60 min | 10 Pack', 4],\n ['Pablo - Landi', 7862867912, 'mHbOT | 60 min | 10 Pack', 9],\n ['Malena - Gomez', 3053037513, 'mHbOT | 60 min | 3 Pack', 2],\n ['Madeleine - Palmer', 4379229555, 'mHbOT | 60 min | 3 Pack', 1],\n ['Bianca - Mendoza', 3057103236, 'mHbOT | 60 min | 3 Pack', 2],\n ['Amber - Bacon', 6046148572, 'mHbOT | 60 min | 3 Pack', 3],\n ['Maria - Fernandez', 7862852022, 'mHbOT | 60 min | 3 Pack', 2],\n ['gina - fiallo', 3057903863, 'mHbOT | 60 min | 3 Pack', 3],\n ['Roberto - del Rosal', 3052972611, 'mHbOT | 60 min | 5 Pack', 2],\n ['Joe - Michalczyk', 6104200855, 'mHbOT | 60 min | 5 Pack', 3],\n ['Morris - Gad', 5165677292, 'mHbOT | 60 min | 5 Pack', 4],\n ['Katrina - Kazakos', 7868126609, 'mHbOT | 60 min | 5 Pack', 3],\n ['Karen - Kranenburg', 7866147348, 'mHbOT | 60 min | 5 Pack', 2],\n ['Claudia - Fernandez', 3057331769, 'mHbOT | 60 min | 5 Pack', 3],\n ['Terry - Marks', 3219488400, 'mHbOT | 60 min | 5 Pack', 4],\n ['Barbara - Corton', 7738058590, 'mHbOT | 60 min | 5 Pack', 1],\n ['Beth - Erickson', 3152866384, 'mHbOT | 60 min | 5 Pack', 4],\n ['katherine - Hazard', 4087170757, 'mHbOT | 60 min | 5 Pack', 3],\n ['Beth - Erickson', 3152866384, 'NAD+ 125mg IM Shot | 4 Pack', 3],\n ['Janet - Onate', 9172911469, 'NAD+ 125mg IM Shot | 4 Pack', 2],\n ['Nicole - Klobedanz', 8609973571, 'NAD+ IV Drip Therapy 750mg | 4 Pack', 1],\n ['Angel - - Bates', 4153697702, 'NAD+ IV Drip Therapy 750mg | 4 Pack', 4],\n ['Jose - Zeron', 7862514419, 'NAD+ IV Drip Therapy 750mg | 4 Pack', 3],\n ['David - Pouliot', 3057977133, 'NAD+ IV Drip Therapy 750mg | 4 Pack', 3],\n ['Kristina - Cabrera', 7868592273, 'NAD+ IV Drip Therapy 750mg | 4 Pack', 4],\n ['Susana - Lay', 7863658685, 'NAD+ IV Drip Therapy 750mg | 4 Pack', 4],\n ['Brendon - Brewster', 2157407883, 'NAD+ IV Drip Therapy 750mg Credit', 1],\n ['Neli - Lessee', 3054500725, 'NAD+ IV Drip Therapy 750mg Credit', 1],\n ['Wanda - Alvarez', 3052195380, 'Premium IM Shot | 5 Pack', 2],\n ['Jose - Alvarez', 3052195379, 'Premium IM Shot | 5 Pack', 2],\n ['Sandra - Alonso', 3056133376, 'Premium IM Shot | 5 Pack', 1],\n ['Lucas - Diaz', 7863388505, 'Signature IM Shot | 3 Pack', 1],\n ['Wanda - Alvarez', 3052195380, 'Signature IM Shot | 5 Pack', 1],\n ['Jose - Alvarez', 3052195379, 'Signature IM Shot | 5 Pack', 2],\n ['Ethel Rodas - Rodas', 3053026227, 'Signature IM Shot | 5 Pack', 1],\n ['Christina - Xiques', 3052990750, 'Signature IM Shot | 5 Pack', 1],\n ['Ingrid - Jimenez', 7863696463, 'Signature IM Shot | 5 Pack', 1],\n ['Janet - Onate', 9172911469, 'Signature IM Shot | 5 Pack', 1]]"
          },
          "metadata": {}
        }
      ],
      "execution_count": 126
    },
    {
      "cell_type": "code",
      "source": "## Lets check how many names are on this list\nlen(medical_pack_list)",
      "metadata": {
        "trusted": true,
        "editable": true,
        "slideshow": {
          "slide_type": ""
        }
      },
      "outputs": [
        {
          "execution_count": 127,
          "output_type": "execute_result",
          "data": {
            "text/plain": "58"
          },
          "metadata": {}
        }
      ],
      "execution_count": 127
    },
    {
      "cell_type": "code",
      "source": "## Now let's put this into a dataframe so we can turn it into a excel sheet when needed\nfinal_medical_text_list = pd.DataFrame(medical_pack_list, columns=['full_name', 'phone', 'credit_description', 'remaining_credits'])\n\n## Printing\nfinal_medical_text_list",
      "metadata": {
        "trusted": true
      },
      "outputs": [
        {
          "execution_count": 101,
          "output_type": "execute_result",
          "data": {
            "text/plain": "                 full_name       phone          credit_description  \\\n0            Greg - Solano  3054317251        10 Ingredient Bundle   \n1              Donny - Tse  9173740964       100 Ingredient Bundle   \n2        Lissette - Aguila  7862952181        30 Ingredient Bundle   \n3          David - Pouliot  3057977133        50 Ingredient Bundle   \n4            David - Walsh  8476443433        50 Ingredient Bundle   \n..                     ...         ...                         ...   \n59  Maria - Barrios-Mendez  7868973729  Signature IM Shot | 5 Pack   \n60         Iris - Quintero  3058791990  Signature IM Shot | 5 Pack   \n61        Ingrid - Jimenez  7863696463  Signature IM Shot | 5 Pack   \n62         Beth - Erickson  3152866384  Signature IM Shot | 5 Pack   \n63           Janet - Onate  9172911469  Signature IM Shot | 5 Pack   \n\n    remaining_credits  \n0                   6  \n1                  41  \n2                  10  \n3                  27  \n4                  27  \n..                ...  \n59                  3  \n60                  3  \n61                  1  \n62                  3  \n63                  1  \n\n[64 rows x 4 columns]",
            "text/html": "<div>\n<style scoped>\n    .dataframe tbody tr th:only-of-type {\n        vertical-align: middle;\n    }\n\n    .dataframe tbody tr th {\n        vertical-align: top;\n    }\n\n    .dataframe thead th {\n        text-align: right;\n    }\n</style>\n<table border=\"1\" class=\"dataframe\">\n  <thead>\n    <tr style=\"text-align: right;\">\n      <th></th>\n      <th>full_name</th>\n      <th>phone</th>\n      <th>credit_description</th>\n      <th>remaining_credits</th>\n    </tr>\n  </thead>\n  <tbody>\n    <tr>\n      <th>0</th>\n      <td>Greg - Solano</td>\n      <td>3054317251</td>\n      <td>10 Ingredient Bundle</td>\n      <td>6</td>\n    </tr>\n    <tr>\n      <th>1</th>\n      <td>Donny - Tse</td>\n      <td>9173740964</td>\n      <td>100 Ingredient Bundle</td>\n      <td>41</td>\n    </tr>\n    <tr>\n      <th>2</th>\n      <td>Lissette - Aguila</td>\n      <td>7862952181</td>\n      <td>30 Ingredient Bundle</td>\n      <td>10</td>\n    </tr>\n    <tr>\n      <th>3</th>\n      <td>David - Pouliot</td>\n      <td>3057977133</td>\n      <td>50 Ingredient Bundle</td>\n      <td>27</td>\n    </tr>\n    <tr>\n      <th>4</th>\n      <td>David - Walsh</td>\n      <td>8476443433</td>\n      <td>50 Ingredient Bundle</td>\n      <td>27</td>\n    </tr>\n    <tr>\n      <th>...</th>\n      <td>...</td>\n      <td>...</td>\n      <td>...</td>\n      <td>...</td>\n    </tr>\n    <tr>\n      <th>59</th>\n      <td>Maria - Barrios-Mendez</td>\n      <td>7868973729</td>\n      <td>Signature IM Shot | 5 Pack</td>\n      <td>3</td>\n    </tr>\n    <tr>\n      <th>60</th>\n      <td>Iris - Quintero</td>\n      <td>3058791990</td>\n      <td>Signature IM Shot | 5 Pack</td>\n      <td>3</td>\n    </tr>\n    <tr>\n      <th>61</th>\n      <td>Ingrid - Jimenez</td>\n      <td>7863696463</td>\n      <td>Signature IM Shot | 5 Pack</td>\n      <td>1</td>\n    </tr>\n    <tr>\n      <th>62</th>\n      <td>Beth - Erickson</td>\n      <td>3152866384</td>\n      <td>Signature IM Shot | 5 Pack</td>\n      <td>3</td>\n    </tr>\n    <tr>\n      <th>63</th>\n      <td>Janet - Onate</td>\n      <td>9172911469</td>\n      <td>Signature IM Shot | 5 Pack</td>\n      <td>1</td>\n    </tr>\n  </tbody>\n</table>\n<p>64 rows × 4 columns</p>\n</div>"
          },
          "metadata": {}
        }
      ],
      "execution_count": 101
    },
    {
      "cell_type": "code",
      "source": "final_medical_text_list.to_excel('final_medical_text_list.xlsx')",
      "metadata": {
        "trusted": true,
        "editable": true,
        "slideshow": {
          "slide_type": ""
        }
      },
      "outputs": [
        {
          "ename": "<class 'ModuleNotFoundError'>",
          "evalue": "No module named 'openpyxl'",
          "traceback": [
            "\u001b[0;31m---------------------------------------------------------------------------\u001b[0m",
            "\u001b[0;31mModuleNotFoundError\u001b[0m                       Traceback (most recent call last)",
            "Cell \u001b[0;32mIn[104], line 1\u001b[0m\n\u001b[0;32m----> 1\u001b[0m \u001b[43mfinal_medical_text_list\u001b[49m\u001b[38;5;241;43m.\u001b[39;49m\u001b[43mto_excel\u001b[49m\u001b[43m(\u001b[49m\u001b[38;5;124;43m'\u001b[39;49m\u001b[38;5;124;43mfinal_medical_text_list.xlsx\u001b[39;49m\u001b[38;5;124;43m'\u001b[39;49m\u001b[43m)\u001b[49m\n",
            "File \u001b[0;32m/lib/python3.11/site-packages/pandas/util/_decorators.py:211\u001b[0m, in \u001b[0;36mdeprecate_kwarg.<locals>._deprecate_kwarg.<locals>.wrapper\u001b[0;34m(*args, **kwargs)\u001b[0m\n\u001b[1;32m    209\u001b[0m     \u001b[38;5;28;01melse\u001b[39;00m:\n\u001b[1;32m    210\u001b[0m         kwargs[new_arg_name] \u001b[38;5;241m=\u001b[39m new_arg_value\n\u001b[0;32m--> 211\u001b[0m \u001b[38;5;28;01mreturn\u001b[39;00m \u001b[43mfunc\u001b[49m\u001b[43m(\u001b[49m\u001b[38;5;241;43m*\u001b[39;49m\u001b[43margs\u001b[49m\u001b[43m,\u001b[49m\u001b[43m \u001b[49m\u001b[38;5;241;43m*\u001b[39;49m\u001b[38;5;241;43m*\u001b[39;49m\u001b[43mkwargs\u001b[49m\u001b[43m)\u001b[49m\n",
            "File \u001b[0;32m/lib/python3.11/site-packages/pandas/util/_decorators.py:211\u001b[0m, in \u001b[0;36mdeprecate_kwarg.<locals>._deprecate_kwarg.<locals>.wrapper\u001b[0;34m(*args, **kwargs)\u001b[0m\n\u001b[1;32m    209\u001b[0m     \u001b[38;5;28;01melse\u001b[39;00m:\n\u001b[1;32m    210\u001b[0m         kwargs[new_arg_name] \u001b[38;5;241m=\u001b[39m new_arg_value\n\u001b[0;32m--> 211\u001b[0m \u001b[38;5;28;01mreturn\u001b[39;00m \u001b[43mfunc\u001b[49m\u001b[43m(\u001b[49m\u001b[38;5;241;43m*\u001b[39;49m\u001b[43margs\u001b[49m\u001b[43m,\u001b[49m\u001b[43m \u001b[49m\u001b[38;5;241;43m*\u001b[39;49m\u001b[38;5;241;43m*\u001b[39;49m\u001b[43mkwargs\u001b[49m\u001b[43m)\u001b[49m\n",
            "File \u001b[0;32m/lib/python3.11/site-packages/pandas/core/generic.py:2374\u001b[0m, in \u001b[0;36mNDFrame.to_excel\u001b[0;34m(self, excel_writer, sheet_name, na_rep, float_format, columns, header, index, index_label, startrow, startcol, engine, merge_cells, encoding, inf_rep, verbose, freeze_panes, storage_options)\u001b[0m\n\u001b[1;32m   2361\u001b[0m \u001b[38;5;28;01mfrom\u001b[39;00m \u001b[38;5;21;01mpandas\u001b[39;00m\u001b[38;5;21;01m.\u001b[39;00m\u001b[38;5;21;01mio\u001b[39;00m\u001b[38;5;21;01m.\u001b[39;00m\u001b[38;5;21;01mformats\u001b[39;00m\u001b[38;5;21;01m.\u001b[39;00m\u001b[38;5;21;01mexcel\u001b[39;00m \u001b[38;5;28;01mimport\u001b[39;00m ExcelFormatter\n\u001b[1;32m   2363\u001b[0m formatter \u001b[38;5;241m=\u001b[39m ExcelFormatter(\n\u001b[1;32m   2364\u001b[0m     df,\n\u001b[1;32m   2365\u001b[0m     na_rep\u001b[38;5;241m=\u001b[39mna_rep,\n\u001b[0;32m   (...)\u001b[0m\n\u001b[1;32m   2372\u001b[0m     inf_rep\u001b[38;5;241m=\u001b[39minf_rep,\n\u001b[1;32m   2373\u001b[0m )\n\u001b[0;32m-> 2374\u001b[0m \u001b[43mformatter\u001b[49m\u001b[38;5;241;43m.\u001b[39;49m\u001b[43mwrite\u001b[49m\u001b[43m(\u001b[49m\n\u001b[1;32m   2375\u001b[0m \u001b[43m    \u001b[49m\u001b[43mexcel_writer\u001b[49m\u001b[43m,\u001b[49m\n\u001b[1;32m   2376\u001b[0m \u001b[43m    \u001b[49m\u001b[43msheet_name\u001b[49m\u001b[38;5;241;43m=\u001b[39;49m\u001b[43msheet_name\u001b[49m\u001b[43m,\u001b[49m\n\u001b[1;32m   2377\u001b[0m \u001b[43m    \u001b[49m\u001b[43mstartrow\u001b[49m\u001b[38;5;241;43m=\u001b[39;49m\u001b[43mstartrow\u001b[49m\u001b[43m,\u001b[49m\n\u001b[1;32m   2378\u001b[0m \u001b[43m    \u001b[49m\u001b[43mstartcol\u001b[49m\u001b[38;5;241;43m=\u001b[39;49m\u001b[43mstartcol\u001b[49m\u001b[43m,\u001b[49m\n\u001b[1;32m   2379\u001b[0m \u001b[43m    \u001b[49m\u001b[43mfreeze_panes\u001b[49m\u001b[38;5;241;43m=\u001b[39;49m\u001b[43mfreeze_panes\u001b[49m\u001b[43m,\u001b[49m\n\u001b[1;32m   2380\u001b[0m \u001b[43m    \u001b[49m\u001b[43mengine\u001b[49m\u001b[38;5;241;43m=\u001b[39;49m\u001b[43mengine\u001b[49m\u001b[43m,\u001b[49m\n\u001b[1;32m   2381\u001b[0m \u001b[43m    \u001b[49m\u001b[43mstorage_options\u001b[49m\u001b[38;5;241;43m=\u001b[39;49m\u001b[43mstorage_options\u001b[49m\u001b[43m,\u001b[49m\n\u001b[1;32m   2382\u001b[0m \u001b[43m\u001b[49m\u001b[43m)\u001b[49m\n",
            "File \u001b[0;32m/lib/python3.11/site-packages/pandas/io/formats/excel.py:944\u001b[0m, in \u001b[0;36mExcelFormatter.write\u001b[0;34m(self, writer, sheet_name, startrow, startcol, freeze_panes, engine, storage_options)\u001b[0m\n\u001b[1;32m    940\u001b[0m     need_save \u001b[38;5;241m=\u001b[39m \u001b[38;5;28;01mFalse\u001b[39;00m\n\u001b[1;32m    941\u001b[0m \u001b[38;5;28;01melse\u001b[39;00m:\n\u001b[1;32m    942\u001b[0m     \u001b[38;5;66;03m# error: Cannot instantiate abstract class 'ExcelWriter' with abstract\u001b[39;00m\n\u001b[1;32m    943\u001b[0m     \u001b[38;5;66;03m# attributes 'engine', 'save', 'supported_extensions' and 'write_cells'\u001b[39;00m\n\u001b[0;32m--> 944\u001b[0m     writer \u001b[38;5;241m=\u001b[39m \u001b[43mExcelWriter\u001b[49m\u001b[43m(\u001b[49m\u001b[43m  \u001b[49m\u001b[38;5;66;43;03m# type: ignore[abstract]\u001b[39;49;00m\n\u001b[1;32m    945\u001b[0m \u001b[43m        \u001b[49m\u001b[43mwriter\u001b[49m\u001b[43m,\u001b[49m\u001b[43m \u001b[49m\u001b[43mengine\u001b[49m\u001b[38;5;241;43m=\u001b[39;49m\u001b[43mengine\u001b[49m\u001b[43m,\u001b[49m\u001b[43m \u001b[49m\u001b[43mstorage_options\u001b[49m\u001b[38;5;241;43m=\u001b[39;49m\u001b[43mstorage_options\u001b[49m\n\u001b[1;32m    946\u001b[0m \u001b[43m    \u001b[49m\u001b[43m)\u001b[49m\n\u001b[1;32m    947\u001b[0m     need_save \u001b[38;5;241m=\u001b[39m \u001b[38;5;28;01mTrue\u001b[39;00m\n\u001b[1;32m    949\u001b[0m \u001b[38;5;28;01mtry\u001b[39;00m:\n",
            "File \u001b[0;32m/lib/python3.11/site-packages/pandas/io/excel/_openpyxl.py:56\u001b[0m, in \u001b[0;36mOpenpyxlWriter.__init__\u001b[0;34m(self, path, engine, date_format, datetime_format, mode, storage_options, if_sheet_exists, engine_kwargs, **kwargs)\u001b[0m\n\u001b[1;32m     43\u001b[0m \u001b[38;5;28;01mdef\u001b[39;00m \u001b[38;5;21m__init__\u001b[39m(\n\u001b[1;32m     44\u001b[0m     \u001b[38;5;28mself\u001b[39m,\n\u001b[1;32m     45\u001b[0m     path: FilePath \u001b[38;5;241m|\u001b[39m WriteExcelBuffer \u001b[38;5;241m|\u001b[39m ExcelWriter,\n\u001b[0;32m   (...)\u001b[0m\n\u001b[1;32m     54\u001b[0m ) \u001b[38;5;241m-\u001b[39m\u001b[38;5;241m>\u001b[39m \u001b[38;5;28;01mNone\u001b[39;00m:\n\u001b[1;32m     55\u001b[0m     \u001b[38;5;66;03m# Use the openpyxl module as the Excel writer.\u001b[39;00m\n\u001b[0;32m---> 56\u001b[0m     \u001b[38;5;28;01mfrom\u001b[39;00m \u001b[38;5;21;01mopenpyxl\u001b[39;00m\u001b[38;5;21;01m.\u001b[39;00m\u001b[38;5;21;01mworkbook\u001b[39;00m \u001b[38;5;28;01mimport\u001b[39;00m Workbook\n\u001b[1;32m     58\u001b[0m     engine_kwargs \u001b[38;5;241m=\u001b[39m combine_kwargs(engine_kwargs, kwargs)\n\u001b[1;32m     60\u001b[0m     \u001b[38;5;28msuper\u001b[39m()\u001b[38;5;241m.\u001b[39m\u001b[38;5;21m__init__\u001b[39m(\n\u001b[1;32m     61\u001b[0m         path,\n\u001b[1;32m     62\u001b[0m         mode\u001b[38;5;241m=\u001b[39mmode,\n\u001b[0;32m   (...)\u001b[0m\n\u001b[1;32m     65\u001b[0m         engine_kwargs\u001b[38;5;241m=\u001b[39mengine_kwargs,\n\u001b[1;32m     66\u001b[0m     )\n",
            "\u001b[0;31mModuleNotFoundError\u001b[0m: No module named 'openpyxl'"
          ],
          "output_type": "error"
        }
      ],
      "execution_count": 104
    }
  ]
}