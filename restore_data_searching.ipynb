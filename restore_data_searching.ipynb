{
  "metadata": {
    "kernelspec": {
      "name": "python",
      "display_name": "Python (Pyodide)",
      "language": "python"
    },
    "language_info": {
      "codemirror_mode": {
        "name": "python",
        "version": 3
      },
      "file_extension": ".py",
      "mimetype": "text/x-python",
      "name": "python",
      "nbconvert_exporter": "python",
      "pygments_lexer": "ipython3",
      "version": "3.8"
    }
  },
  "nbformat_minor": 4,
  "nbformat": 4,
  "cells": [
    {
      "cell_type": "markdown",
      "source": "## Restore Data Searching",
      "metadata": {}
    },
    {
      "cell_type": "markdown",
      "source": "3 for 50 dollars csv\nFind clients that bought 3 packs of core services at 50 dollars\n\nCredit balance\nSee who is running low on credits and get a list of their emails\n\nTake out all MB Migration",
      "metadata": {}
    },
    {
      "cell_type": "code",
      "source": "## Let's import necessary libraries and datasets\nimport pandas as pd\n\ndf_3_for_50 = pd.read_csv('restore_3_for_50_data.csv')\ndf_core = pd.read_csv('balance_core_services.csv')\ndf_medical = pd.read_csv('balance_medical_services.csv')\ndf_skin = pd.read_csv('balance_skin_services.csv')",
      "metadata": {
        "trusted": true
      },
      "outputs": [],
      "execution_count": 11
    },
    {
      "cell_type": "markdown",
      "source": "## 3 for $50",
      "metadata": {}
    },
    {
      "cell_type": "code",
      "source": "## Check what the data set looks like by getting the first 5 rows\ndf_3_for_50.head(5)",
      "metadata": {
        "trusted": true
      },
      "outputs": [
        {
          "execution_count": 12,
          "output_type": "execute_result",
          "data": {
            "text/plain": "  Studio Code Purchase Date Invoice ID Client ID First Name  Last Name  \\\n0       FL005    11/27/2023   31453168    443950   Cristina  Chavarria   \n1       FL005    11/27/2023   31453169    671156     Teresa       Seda   \n2       FL005    11/27/2023   31453170    280027    Melanie     Hunter   \n3       FL005    11/27/2023   31453171    754675    Jessica     Rummel   \n4       FL005    11/27/2023   31453172     27512   Humberto        Gil   \n\n                        Email     Phone # Therapy Category Business Category  \\\n0    cchavarria1224@gmail.com  3053038233      Memberships        Membership   \n1   teresa.seda@walgreens.com  7876616297      Memberships        Membership   \n2  melanieannhunter@gmail.com  7735319169      Memberships        Membership   \n3   jessicarummel@hotmail.com  3054585484      Memberships        Membership   \n4   humbertogil64@hotmail.com  7868993347      Memberships        Membership   \n\n                            Item Sales Rep Autopay Status Quantity Tax Amount  \\\n0            Discover Membership       NaN        Success        1      $0.00   \n1            Discover Membership       NaN        Success        1      $0.00   \n2  Wellness Membership - Couples       NaN        Success        1      $0.00   \n3            Discover Membership       NaN        Success        1      $0.00   \n4            Discover Membership       NaN        Success        1      $0.00   \n\n  Discount Credit Used Unnamed: 17  \n0    $0.00           0     $119.00  \n1    $0.00           0     $119.00  \n2    $0.00           0     $169.00  \n3    $0.00           0     $119.00  \n4    $0.00           0     $119.00  ",
            "text/html": "<div>\n<style scoped>\n    .dataframe tbody tr th:only-of-type {\n        vertical-align: middle;\n    }\n\n    .dataframe tbody tr th {\n        vertical-align: top;\n    }\n\n    .dataframe thead th {\n        text-align: right;\n    }\n</style>\n<table border=\"1\" class=\"dataframe\">\n  <thead>\n    <tr style=\"text-align: right;\">\n      <th></th>\n      <th>Studio Code</th>\n      <th>Purchase Date</th>\n      <th>Invoice ID</th>\n      <th>Client ID</th>\n      <th>First Name</th>\n      <th>Last Name</th>\n      <th>Email</th>\n      <th>Phone #</th>\n      <th>Therapy Category</th>\n      <th>Business Category</th>\n      <th>Item</th>\n      <th>Sales Rep</th>\n      <th>Autopay Status</th>\n      <th>Quantity</th>\n      <th>Tax Amount</th>\n      <th>Discount</th>\n      <th>Credit Used</th>\n      <th>Unnamed: 17</th>\n    </tr>\n  </thead>\n  <tbody>\n    <tr>\n      <th>0</th>\n      <td>FL005</td>\n      <td>11/27/2023</td>\n      <td>31453168</td>\n      <td>443950</td>\n      <td>Cristina</td>\n      <td>Chavarria</td>\n      <td>cchavarria1224@gmail.com</td>\n      <td>3053038233</td>\n      <td>Memberships</td>\n      <td>Membership</td>\n      <td>Discover Membership</td>\n      <td>NaN</td>\n      <td>Success</td>\n      <td>1</td>\n      <td>$0.00</td>\n      <td>$0.00</td>\n      <td>0</td>\n      <td>$119.00</td>\n    </tr>\n    <tr>\n      <th>1</th>\n      <td>FL005</td>\n      <td>11/27/2023</td>\n      <td>31453169</td>\n      <td>671156</td>\n      <td>Teresa</td>\n      <td>Seda</td>\n      <td>teresa.seda@walgreens.com</td>\n      <td>7876616297</td>\n      <td>Memberships</td>\n      <td>Membership</td>\n      <td>Discover Membership</td>\n      <td>NaN</td>\n      <td>Success</td>\n      <td>1</td>\n      <td>$0.00</td>\n      <td>$0.00</td>\n      <td>0</td>\n      <td>$119.00</td>\n    </tr>\n    <tr>\n      <th>2</th>\n      <td>FL005</td>\n      <td>11/27/2023</td>\n      <td>31453170</td>\n      <td>280027</td>\n      <td>Melanie</td>\n      <td>Hunter</td>\n      <td>melanieannhunter@gmail.com</td>\n      <td>7735319169</td>\n      <td>Memberships</td>\n      <td>Membership</td>\n      <td>Wellness Membership - Couples</td>\n      <td>NaN</td>\n      <td>Success</td>\n      <td>1</td>\n      <td>$0.00</td>\n      <td>$0.00</td>\n      <td>0</td>\n      <td>$169.00</td>\n    </tr>\n    <tr>\n      <th>3</th>\n      <td>FL005</td>\n      <td>11/27/2023</td>\n      <td>31453171</td>\n      <td>754675</td>\n      <td>Jessica</td>\n      <td>Rummel</td>\n      <td>jessicarummel@hotmail.com</td>\n      <td>3054585484</td>\n      <td>Memberships</td>\n      <td>Membership</td>\n      <td>Discover Membership</td>\n      <td>NaN</td>\n      <td>Success</td>\n      <td>1</td>\n      <td>$0.00</td>\n      <td>$0.00</td>\n      <td>0</td>\n      <td>$119.00</td>\n    </tr>\n    <tr>\n      <th>4</th>\n      <td>FL005</td>\n      <td>11/27/2023</td>\n      <td>31453172</td>\n      <td>27512</td>\n      <td>Humberto</td>\n      <td>Gil</td>\n      <td>humbertogil64@hotmail.com</td>\n      <td>7868993347</td>\n      <td>Memberships</td>\n      <td>Membership</td>\n      <td>Discover Membership</td>\n      <td>NaN</td>\n      <td>Success</td>\n      <td>1</td>\n      <td>$0.00</td>\n      <td>$0.00</td>\n      <td>0</td>\n      <td>$119.00</td>\n    </tr>\n  </tbody>\n</table>\n</div>"
          },
          "metadata": {}
        }
      ],
      "execution_count": 12
    },
    {
      "cell_type": "code",
      "source": "## I immediately see some columns that meant nothing to me so let's get rid of them\n## We'll also give it a new name\nnew_df_3_for_50 = df_3_for_50.drop(columns=['Studio Code', 'Purchase Date', 'Invoice ID', 'Client ID', 'Therapy Category', 'Business Category', 'Sales Rep', 'Autopay Status', 'Tax Amount', 'Discount', 'Quantity', 'Credit Used'])",
      "metadata": {
        "trusted": true
      },
      "outputs": [],
      "execution_count": 14
    },
    {
      "cell_type": "code",
      "source": "## I also don't know why the name of the last column is that so let's change it\nnew_df_3_for_50.rename(columns={\"Unnamed: 17\": \"Total\"})",
      "metadata": {
        "trusted": true
      },
      "outputs": [
        {
          "execution_count": 15,
          "output_type": "execute_result",
          "data": {
            "text/plain": "     First Name  Last Name                        Email     Phone #  \\\n0      Cristina  Chavarria     cchavarria1224@gmail.com  3053038233   \n1        Teresa       Seda    teresa.seda@walgreens.com  7876616297   \n2       Melanie     Hunter   melanieannhunter@gmail.com  7735319169   \n3       Jessica     Rummel    jessicarummel@hotmail.com  3054585484   \n4      Humberto        Gil    humbertogil64@hotmail.com  7868993347   \n...         ...        ...                          ...         ...   \n1783    Kennedy   Martinez  kennedymartinez01@gmail.com  7862140977   \n1784   Jennifer     Acosta         jennie2903@gmail.com  3054097240   \n1785   Jennifer     Acosta         jennie2903@gmail.com  3054097240   \n1786    Barbara     Corton      barbaracorton@yahoo.com  7738058590   \n1787      Total      Total                        Total       Total   \n\n                               Item       Total  \n0               Discover Membership     $119.00  \n1               Discover Membership     $119.00  \n2     Wellness Membership - Couples     $169.00  \n3               Discover Membership     $119.00  \n4               Discover Membership     $119.00  \n...                             ...         ...  \n1783                            WBC       $0.00  \n1784                   Base IV Drip       $0.00  \n1785                 Trace Elements       $0.00  \n1786                 mHbOT | 90 min       $0.00  \n1787                          Total  $90,732.60  \n\n[1788 rows x 6 columns]",
            "text/html": "<div>\n<style scoped>\n    .dataframe tbody tr th:only-of-type {\n        vertical-align: middle;\n    }\n\n    .dataframe tbody tr th {\n        vertical-align: top;\n    }\n\n    .dataframe thead th {\n        text-align: right;\n    }\n</style>\n<table border=\"1\" class=\"dataframe\">\n  <thead>\n    <tr style=\"text-align: right;\">\n      <th></th>\n      <th>First Name</th>\n      <th>Last Name</th>\n      <th>Email</th>\n      <th>Phone #</th>\n      <th>Item</th>\n      <th>Total</th>\n    </tr>\n  </thead>\n  <tbody>\n    <tr>\n      <th>0</th>\n      <td>Cristina</td>\n      <td>Chavarria</td>\n      <td>cchavarria1224@gmail.com</td>\n      <td>3053038233</td>\n      <td>Discover Membership</td>\n      <td>$119.00</td>\n    </tr>\n    <tr>\n      <th>1</th>\n      <td>Teresa</td>\n      <td>Seda</td>\n      <td>teresa.seda@walgreens.com</td>\n      <td>7876616297</td>\n      <td>Discover Membership</td>\n      <td>$119.00</td>\n    </tr>\n    <tr>\n      <th>2</th>\n      <td>Melanie</td>\n      <td>Hunter</td>\n      <td>melanieannhunter@gmail.com</td>\n      <td>7735319169</td>\n      <td>Wellness Membership - Couples</td>\n      <td>$169.00</td>\n    </tr>\n    <tr>\n      <th>3</th>\n      <td>Jessica</td>\n      <td>Rummel</td>\n      <td>jessicarummel@hotmail.com</td>\n      <td>3054585484</td>\n      <td>Discover Membership</td>\n      <td>$119.00</td>\n    </tr>\n    <tr>\n      <th>4</th>\n      <td>Humberto</td>\n      <td>Gil</td>\n      <td>humbertogil64@hotmail.com</td>\n      <td>7868993347</td>\n      <td>Discover Membership</td>\n      <td>$119.00</td>\n    </tr>\n    <tr>\n      <th>...</th>\n      <td>...</td>\n      <td>...</td>\n      <td>...</td>\n      <td>...</td>\n      <td>...</td>\n      <td>...</td>\n    </tr>\n    <tr>\n      <th>1783</th>\n      <td>Kennedy</td>\n      <td>Martinez</td>\n      <td>kennedymartinez01@gmail.com</td>\n      <td>7862140977</td>\n      <td>WBC</td>\n      <td>$0.00</td>\n    </tr>\n    <tr>\n      <th>1784</th>\n      <td>Jennifer</td>\n      <td>Acosta</td>\n      <td>jennie2903@gmail.com</td>\n      <td>3054097240</td>\n      <td>Base IV Drip</td>\n      <td>$0.00</td>\n    </tr>\n    <tr>\n      <th>1785</th>\n      <td>Jennifer</td>\n      <td>Acosta</td>\n      <td>jennie2903@gmail.com</td>\n      <td>3054097240</td>\n      <td>Trace Elements</td>\n      <td>$0.00</td>\n    </tr>\n    <tr>\n      <th>1786</th>\n      <td>Barbara</td>\n      <td>Corton</td>\n      <td>barbaracorton@yahoo.com</td>\n      <td>7738058590</td>\n      <td>mHbOT | 90 min</td>\n      <td>$0.00</td>\n    </tr>\n    <tr>\n      <th>1787</th>\n      <td>Total</td>\n      <td>Total</td>\n      <td>Total</td>\n      <td>Total</td>\n      <td>Total</td>\n      <td>$90,732.60</td>\n    </tr>\n  </tbody>\n</table>\n<p>1788 rows × 6 columns</p>\n</div>"
          },
          "metadata": {}
        }
      ],
      "execution_count": 15
    },
    {
      "cell_type": "code",
      "source": "## Let's grab the all the 3 Pack of Core Service\ndf_3_for_50.loc[(df_3_for_50['Item'] == 'Core Service | 3 Pack')]",
      "metadata": {
        "trusted": true
      },
      "outputs": [],
      "execution_count": null
    },
    {
      "cell_type": "code",
      "source": "## As you can see, some of the purchases aren't $50. Let's filter that\ndf_3_for_50.loc[(df_3_for_50['Item'] == 'Core Service | 3 Pack') & (df_3_for_50['Total'] == '$50.00')]",
      "metadata": {
        "trusted": true
      },
      "outputs": [],
      "execution_count": null
    },
    {
      "cell_type": "code",
      "source": "## Since they will be sending texts, lets get a list of names and numbers\n## First, we'll give them some new indexes\ndf_3_for_50.reset_index()\n\n## Printing\ndf_3_for_50",
      "metadata": {
        "trusted": true
      },
      "outputs": [],
      "execution_count": null
    },
    {
      "cell_type": "code",
      "source": "",
      "metadata": {
        "trusted": true
      },
      "outputs": [],
      "execution_count": null
    }
  ]
}